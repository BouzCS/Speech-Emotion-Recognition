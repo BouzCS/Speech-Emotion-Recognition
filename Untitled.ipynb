{
 "cells": [
  {
   "cell_type": "code",
   "execution_count": 1,
   "id": "38f5def4-ba8f-4bd3-a8ee-4fcb38e88308",
   "metadata": {},
   "outputs": [],
   "source": [
    "import librosa\n",
    "%matplotlib inline\n",
    "import matplotlib.pyplot as plt\n",
    "import librosa.display\n",
    "from IPython.display import Audio\n",
    "import numpy as np\n",
    "import tensorflow as tf\n",
    "import soundfile\n",
    "from matplotlib.pyplot import specgram\n",
    "import pandas as pd\n",
    "from sklearn.metrics import confusion_matrix\n",
    "import IPython.display as ipd  # To play sound in the notebook\n",
    "import os # interface with underlying OS that python is running on\n",
    "import sys\n",
    "from sklearn.model_selection import StratifiedShuffleSplit\n",
    "from sklearn.preprocessing import LabelEncoder\n",
    "from sklearn.metrics import classification_report, f1_score\n",
    "import nlpaug.augmenter.audio as naa"
   ]
  },
  {
   "cell_type": "code",
   "execution_count": 3,
   "id": "fe78e068-04d4-4c6a-8622-c9515c58696d",
   "metadata": {},
   "outputs": [],
   "source": [
    "#DataFlair - Emotions in the RAVDESS dataset\n",
    "emotions={\n",
    "  '01':'neutral',\n",
    "  '02':'calm',\n",
    "  '03':'happy',\n",
    "  '04':'sad',\n",
    "  '05':'angry',\n",
    "  '06':'fearful',\n",
    "  '07':'disgust',\n",
    "  '08':'surprised'\n",
    "}"
   ]
  },
  {
   "cell_type": "code",
   "execution_count": 26,
   "id": "adf97454-124d-4abc-898d-418045bb5673",
   "metadata": {},
   "outputs": [],
   "source": [
    "def extract_feature(y_data,sr, mfcc, chroma, mel,crossing_0):\n",
    "    if chroma:\n",
    "        stft=np.abs(librosa.stft(y_data))\n",
    "        result=np.array([])\n",
    "    if mfcc:\n",
    "        mfccs=np.mean(librosa.feature.mfcc(y=y_data, sr=sr, n_mfcc=40).T, axis=0)\n",
    "        result=np.hstack((result, mfccs))\n",
    "    if chroma:\n",
    "        chroma=np.mean(librosa.feature.chroma_stft(S=stft, sr=sr).T,axis=0)\n",
    "        result=np.hstack((result, chroma))\n",
    "    if mel:\n",
    "        mel=np.mean(librosa.feature.melspectrogram(y_data, sr=sr).T,axis=0)\n",
    "        result=np.hstack((result, mel))\n",
    "    if crossing_0:\n",
    "        crossing_0= np.mean(librosa.feature.zero_crossing_rate(y_data))\n",
    "        result=np.hstack((result, crossing_0))\n",
    "    return result"
   ]
  },
  {
   "cell_type": "code",
   "execution_count": null,
   "id": "7abf1461-0db9-4844-a6ed-4dd6b0055096",
   "metadata": {},
   "outputs": [],
   "source": [
    "file_name = \"C:\\\\Users\\\\Dragox.RS\\\\Documents\\\\GitHub\\\\Speech-Emotion-Recognition\\Data\\\\Actor_01\\\\03-01-01-01-01-01-01.wav\"\n",
    "y_data, sr = librosa.load(file_name)\n",
    "aug = naa.CropAug(sampling_rate=sr)\n",
    "aa=[]\n",
    "y_data=aug.augment(y_data) \n",
    "for y_data in augumente_data(file_name):\n",
    "    feature=extract_feature(y_data, sr, mfcc=True, chroma=True, mel=True,crossing_0=True)\n",
    "    aa.append(feature)\n",
    "aa"
   ]
  },
  {
   "cell_type": "code",
   "execution_count": 20,
   "id": "f3a3edad-56f4-45aa-94a8-2913e2cf8eee",
   "metadata": {},
   "outputs": [],
   "source": [
    "def augumente_data(file_path):\n",
    "    data, sr = librosa.load(file_path)\n",
    "    \n",
    "    data_L=[]\n",
    "    data_L.append(data)\n",
    "    #Crop Augmenter\n",
    "    aug = naa.CropAug(sampling_rate=sr)\n",
    "    data_L.append(aug.augment(data))\n",
    "    \n",
    "    #Loudness Augmenter\n",
    "    aug = naa.LoudnessAug()\n",
    "    data_L.append(aug.augment(data))\n",
    "    \n",
    "    \n",
    "    #Mask Augmenter\n",
    "    aug = naa.MaskAug(sampling_rate=sr, mask_with_noise=False)\n",
    "    data_L.append(aug.augment(data))\n",
    "    \n",
    "    #Noise\n",
    "    aug = naa.NoiseAug()\n",
    "    data_L.append(aug.augment(data))\n",
    "    \n",
    "    #Pitch_aug\n",
    "    aug = naa.PitchAug(sampling_rate=sr, factor=(2,3))\n",
    "    data_L.append(aug.augment(data))\n",
    "    \n",
    "    #Speed_Aug\n",
    "    aug = naa.SpeedAug()\n",
    "    data_L.append(aug.augment(data))\n",
    "    \n",
    "    return data_L"
   ]
  },
  {
   "cell_type": "code",
   "execution_count": 22,
   "id": "d8f1aae5-2ee3-4878-ac40-c7ba21270657",
   "metadata": {},
   "outputs": [],
   "source": [
    "#Load the data and extract features for each sound file\n",
    "\n",
    "def load_data():\n",
    "    x,y=[],[]\n",
    "    for file in glob.glob(\"C:\\\\Users\\\\Dragox.RS\\\\Documents\\\\GitHub\\\\Speech-Emotion-Recognition\\Data\\\\Actor_*\\\\*.wav\"):\n",
    "        file_name=os.path.basename(file)\n",
    "        emotion=emotions[file_name.split(\"-\")[2]]\n",
    "        \n",
    "\n",
    "        _ , sr = librosa.load(file)\n",
    "        for y_data in augumente_data(file):\n",
    "            feature=extract_feature(y_data, sr, mfcc=True, chroma=True, mel=True,crossing_0=True)\n",
    "            x.append(feature)\n",
    "            y.append(emotion)\n",
    "    return np.array(x),y"
   ]
  },
  {
   "cell_type": "code",
   "execution_count": 21,
   "id": "8f3ae9a9-f335-4981-8f47-9a0f08af6ca4",
   "metadata": {},
   "outputs": [],
   "source": [
    "##Load the data and extract features for each sound file\n",
    "#\n",
    "#def load_data(test_size=0.2):\n",
    "#    x,y=[],[]\n",
    "#    for file in glob.glob(\"C:\\\\Users\\\\Dragox.RS\\\\Documents\\\\GitHub\\\\Speech-Emotion-Recognition\\Data\\\\Actor_*\\\\*.wav\"):\n",
    "#        file_name=os.path.basename(file)\n",
    "#        emotion=emotions[file_name.split(\"-\")[2]]\n",
    "#\n",
    "#        feature=extract_feature(file, mfcc=True, chroma=True, mel=True,crossing_0=True)\n",
    "#        x.append(feature)\n",
    "#        y.append(emotion)\n",
    "#    return x,y"
   ]
  },
  {
   "cell_type": "code",
   "execution_count": null,
   "id": "80fe5cab-250c-4663-a699-24c4e36f8f67",
   "metadata": {},
   "outputs": [],
   "source": [
    "X,y=load_data()"
   ]
  },
  {
   "cell_type": "code",
   "execution_count": 37,
   "id": "fab0ec6a-3a7c-4969-92e9-1817ec7ccb9a",
   "metadata": {},
   "outputs": [],
   "source": [
    "df_x = pd.DataFrame(X)\n",
    "df_y = pd.DataFrame(y)\n",
    "df = pd.concat([df_x,df_y],axis=1)"
   ]
  },
  {
   "cell_type": "code",
   "execution_count": 3,
   "id": "9bb4befa-efb7-433d-80bd-a0024ee0bcc8",
   "metadata": {},
   "outputs": [],
   "source": [
    "X=df.drop([\"Unnamed: 0\",\"0.1\"],axis=1)\n",
    "y=df[\"0.1\"]"
   ]
  },
  {
   "cell_type": "code",
   "execution_count": 4,
   "id": "6d8a20e7-460c-4e60-8efb-77de05b30e1a",
   "metadata": {},
   "outputs": [
    {
     "data": {
      "application/javascript": [
       "\n",
       "        if (window._pyforest_update_imports_cell) { window._pyforest_update_imports_cell('from sklearn.model_selection import train_test_split'); }\n",
       "    "
      ],
      "text/plain": [
       "<IPython.core.display.Javascript object>"
      ]
     },
     "metadata": {},
     "output_type": "display_data"
    }
   ],
   "source": [
    "x_train,x_test,y_train,y_test=train_test_split(X,y,test_size=0.2)"
   ]
  },
  {
   "cell_type": "code",
   "execution_count": 7,
   "id": "2dd45c9e-9b41-472e-963a-9a82330a0679",
   "metadata": {},
   "outputs": [],
   "source": [
    "\n",
    "# NORMALIZE DATA\n",
    "mean = np.mean(x_train, axis=0)\n",
    "std = np.std(x_train, axis=0)\n",
    "x_train = (x_train - mean)/std\n",
    "x_test = (x_test - mean)/std\n",
    "\n"
   ]
  },
  {
   "cell_type": "code",
   "execution_count": 31,
   "id": "ba68f9a5-3624-4023-8651-41cb6f4224ff",
   "metadata": {},
   "outputs": [],
   "source": [
    "df_x = pd.DataFrame(x_train)\n",
    "df_y = pd.DataFrame(y_train)\n",
    "df = pd.concat([df_x,df_y],axis=1)"
   ]
  },
  {
   "cell_type": "code",
   "execution_count": 38,
   "id": "2f5b833f-7148-4043-88da-1316ae2fe4e3",
   "metadata": {},
   "outputs": [],
   "source": [
    "df.to_csv(\"Data_Augumented.csv\")"
   ]
  },
  {
   "cell_type": "code",
   "execution_count": 2,
   "id": "5618d800-68b8-4633-83bd-393e610f09a2",
   "metadata": {},
   "outputs": [],
   "source": [
    "df = pd.read_csv(\"Data_Augumented.csv\")"
   ]
  },
  {
   "cell_type": "code",
   "execution_count": 3,
   "id": "47311472-199c-4b7e-b9f4-14a2d390d4e7",
   "metadata": {},
   "outputs": [
    {
     "data": {
      "text/plain": [
       "Index(['Unnamed: 0', '0', '1', '2', '3', '4', '5', '6', '7', '8',\n",
       "       ...\n",
       "       '172', '173', '174', '175', '176', '177', '178', '179', '180', '0.1'],\n",
       "      dtype='object', length=183)"
      ]
     },
     "execution_count": 3,
     "metadata": {},
     "output_type": "execute_result"
    }
   ],
   "source": [
    "df.columns"
   ]
  },
  {
   "cell_type": "code",
   "execution_count": 5,
   "id": "6fce84be-af11-4e10-b683-ae5c3e73be59",
   "metadata": {},
   "outputs": [],
   "source": [
    "from sklearn.neural_network import MLPClassifier"
   ]
  },
  {
   "cell_type": "code",
   "execution_count": 33,
   "id": "c6868c61-d4f2-472c-9d28-93fdac876d48",
   "metadata": {},
   "outputs": [],
   "source": [
    "model=MLPClassifier(alpha=0.001, batch_size=\"auto\", epsilon=1e-08, hidden_layer_sizes=(700,), learning_rate='adaptive', max_iter=1500)"
   ]
  },
  {
   "cell_type": "code",
   "execution_count": 34,
   "id": "f769ecef-702e-4b68-8b4f-1f62f2f216c8",
   "metadata": {},
   "outputs": [
    {
     "data": {
      "text/plain": [
       "MLPClassifier(alpha=0.001, hidden_layer_sizes=(700,), learning_rate='adaptive',\n",
       "              max_iter=1500)"
      ]
     },
     "execution_count": 34,
     "metadata": {},
     "output_type": "execute_result"
    }
   ],
   "source": [
    "model.fit(x_train,y_train)"
   ]
  },
  {
   "cell_type": "code",
   "execution_count": 6,
   "id": "a8bebfa0-7dfa-442b-9630-0dac14bca5cd",
   "metadata": {},
   "outputs": [],
   "source": [
    "from sklearn.metrics import accuracy_score"
   ]
  },
  {
   "cell_type": "code",
   "execution_count": 36,
   "id": "d997f77c-33d0-4fed-9126-8c2fe881a5fb",
   "metadata": {},
   "outputs": [
    {
     "name": "stdout",
     "output_type": "stream",
     "text": [
      "Accuracy: 78.22%\n"
     ]
    }
   ],
   "source": [
    "# Predict for the test set\n",
    "y_pred=model.predict(x_test)\n",
    "#DataFlair - Calculate the accuracy of our model\n",
    "accuracy=accuracy_score(y_true=y_test, y_pred=y_pred)\n",
    "#DataFlair - Print the accuracy\n",
    "print(\"Accuracy: {:.2f}%\".format(accuracy*100))"
   ]
  },
  {
   "cell_type": "code",
   "execution_count": 44,
   "id": "7a076311-c878-43be-b139-d6f5d8677aba",
   "metadata": {},
   "outputs": [],
   "source": [
    "import pickle\n",
    "# now you can save it to a file\n",
    "with open('MLP_base_C.pkl', 'wb') as f:\n",
    "    pickle.dump(model, f)\n",
    "\n",
    "# and later you can load it\n",
    "#with open('filename.pkl', 'rb') as f:\n",
    "#    clf = pickle.load(f)"
   ]
  },
  {
   "cell_type": "code",
   "execution_count": 7,
   "id": "fdb7012a-d23c-44c3-af3f-b61f52e12260",
   "metadata": {},
   "outputs": [],
   "source": [
    "#GRID = [\n",
    "#    {\n",
    "#     'solver': ['adam'],\n",
    "#     'learning_rate_init': [0.0001],\n",
    "#     'max_iter': [300],\n",
    "#     'hidden_layer_sizes': [(500, 400, 300, 200, 100), (400, 400, 400, 400, 400), (300, 300, 300, 300, 300), (200, 200, 200, 200, 200)],\n",
    "#     'activation': ['logistic', 'tanh', 'relu'],\n",
    "#     'alpha': [0.0001, 0.001, 0.005],\n",
    "#     'early_stopping': [True, False]\n",
    "#     }\n",
    "#]\n",
    "#\n",
    "GRID = [\n",
    "    {\n",
    "     'solver': ['adam'],\n",
    "     'learning_rate_init': [0.0001],\n",
    "     'max_iter': [300],\n",
    "     'hidden_layer_sizes': [(500, 400, 300, 200, 100)],\n",
    "     'activation': ['logistic','relu'],\n",
    "     'alpha': [0.0001, 0.001],\n",
    "     }\n",
    "]\n"
   ]
  },
  {
   "cell_type": "code",
   "execution_count": null,
   "id": "057f83d4-2615-4fc3-82e0-fb2fa5e8ada4",
   "metadata": {},
   "outputs": [
    {
     "data": {
      "application/javascript": [
       "\n",
       "        if (window._pyforest_update_imports_cell) { window._pyforest_update_imports_cell('from sklearn.model_selection import GridSearchCV\\nfrom sklearn.model_selection import train_test_split'); }\n",
       "    "
      ],
      "text/plain": [
       "<IPython.core.display.Javascript object>"
      ]
     },
     "metadata": {},
     "output_type": "display_data"
    },
    {
     "name": "stdout",
     "output_type": "stream",
     "text": [
      "Fitting 2 folds for each of 4 candidates, totalling 8 fits\n"
     ]
    }
   ],
   "source": [
    "model=MLPClassifier()\n",
    "\n",
    "grid_search = GridSearchCV(estimator=model, param_grid=GRID,\n",
    "                            n_jobs=-1, cv=2, refit=True, verbose=2, \n",
    "                            return_train_score=False)\n",
    "\n",
    "grid_search.fit(x_train, y_train)\n",
    "prediction = grid_search.predict(x_test)\n",
    "\n",
    "print(grid_search.best_params_)\n",
    "print('Score of best rf_classifier :\\t{}'.format(grid_search.score(x_test, y_test)))\n",
    "print(classification_report(y_test, prediction_rf))"
   ]
  },
  {
   "cell_type": "code",
   "execution_count": null,
   "id": "e41bc2b9-892a-4b72-8d06-90922523c279",
   "metadata": {},
   "outputs": [],
   "source": [
    "%timeit\n",
    "from sklearn.metrics import classification_report, f1_score\n",
    "print(classification_report(y_test, prediction_svc))"
   ]
  },
  {
   "cell_type": "code",
   "execution_count": null,
   "id": "a04413b8-82ca-412c-b53e-81ae2930278e",
   "metadata": {},
   "outputs": [],
   "source": [
    "%%time\n",
    "from catboost import CatBoostClassifier\n",
    "\n",
    "base_model = CatBoostClassifier(verbose=True)\n",
    "base_model.fit(x_train,y_train,)"
   ]
  },
  {
   "cell_type": "code",
   "execution_count": 13,
   "id": "397c9212-9720-42d6-b6ac-bb84b2bdd051",
   "metadata": {},
   "outputs": [],
   "source": [
    "from sklearn.metrics import roc_auc_score\n",
    "from sklearn.metrics import make_scorer"
   ]
  },
  {
   "cell_type": "code",
   "execution_count": null,
   "id": "70925983-a006-4f24-825c-53bcd3f52627",
   "metadata": {},
   "outputs": [],
   "source": [
    "from sklearn.metrics import accuracy_score\n",
    "accuracy_score(y_true, y_pred, normalize=False)"
   ]
  },
  {
   "cell_type": "code",
   "execution_count": 33,
   "id": "d60f266f-bd5b-4bc3-9093-37be56ed9a33",
   "metadata": {},
   "outputs": [
    {
     "ename": "ValueError",
     "evalue": "multi_class must be in ('ovo', 'ovr')",
     "output_type": "error",
     "traceback": [
      "\u001b[1;31m---------------------------------------------------------------------------\u001b[0m",
      "\u001b[1;31mValueError\u001b[0m                                Traceback (most recent call last)",
      "\u001b[1;32m<ipython-input-33-8fd886bfe05b>\u001b[0m in \u001b[0;36m<module>\u001b[1;34m\u001b[0m\n\u001b[0;32m      1\u001b[0m \u001b[0my_pred\u001b[0m \u001b[1;33m=\u001b[0m \u001b[0movr\u001b[0m\u001b[1;33m.\u001b[0m\u001b[0mpredict_proba\u001b[0m\u001b[1;33m(\u001b[0m\u001b[0mx_test\u001b[0m\u001b[1;33m)\u001b[0m\u001b[1;33m[\u001b[0m\u001b[1;33m:\u001b[0m\u001b[1;33m,\u001b[0m \u001b[1;36m1\u001b[0m\u001b[1;33m]\u001b[0m\u001b[1;33m\u001b[0m\u001b[1;33m\u001b[0m\u001b[0m\n\u001b[1;32m----> 2\u001b[1;33m \u001b[0mvalid_score\u001b[0m \u001b[1;33m=\u001b[0m \u001b[0mroc_auc_score\u001b[0m\u001b[1;33m(\u001b[0m\u001b[0my_test\u001b[0m\u001b[1;33m,\u001b[0m \u001b[0my_pred\u001b[0m\u001b[1;33m)\u001b[0m\u001b[1;33m\u001b[0m\u001b[1;33m\u001b[0m\u001b[0m\n\u001b[0m\u001b[0;32m      3\u001b[0m \u001b[0mprint\u001b[0m\u001b[1;33m(\u001b[0m\u001b[1;34m'Validation ROC-AUC score:'\u001b[0m\u001b[1;33m,\u001b[0m \u001b[0mvalid_score\u001b[0m\u001b[1;33m)\u001b[0m\u001b[1;33m\u001b[0m\u001b[1;33m\u001b[0m\u001b[0m\n",
      "\u001b[1;32m~\\anaconda3\\lib\\site-packages\\sklearn\\utils\\validation.py\u001b[0m in \u001b[0;36minner_f\u001b[1;34m(*args, **kwargs)\u001b[0m\n\u001b[0;32m     61\u001b[0m             \u001b[0mextra_args\u001b[0m \u001b[1;33m=\u001b[0m \u001b[0mlen\u001b[0m\u001b[1;33m(\u001b[0m\u001b[0margs\u001b[0m\u001b[1;33m)\u001b[0m \u001b[1;33m-\u001b[0m \u001b[0mlen\u001b[0m\u001b[1;33m(\u001b[0m\u001b[0mall_args\u001b[0m\u001b[1;33m)\u001b[0m\u001b[1;33m\u001b[0m\u001b[1;33m\u001b[0m\u001b[0m\n\u001b[0;32m     62\u001b[0m             \u001b[1;32mif\u001b[0m \u001b[0mextra_args\u001b[0m \u001b[1;33m<=\u001b[0m \u001b[1;36m0\u001b[0m\u001b[1;33m:\u001b[0m\u001b[1;33m\u001b[0m\u001b[1;33m\u001b[0m\u001b[0m\n\u001b[1;32m---> 63\u001b[1;33m                 \u001b[1;32mreturn\u001b[0m \u001b[0mf\u001b[0m\u001b[1;33m(\u001b[0m\u001b[1;33m*\u001b[0m\u001b[0margs\u001b[0m\u001b[1;33m,\u001b[0m \u001b[1;33m**\u001b[0m\u001b[0mkwargs\u001b[0m\u001b[1;33m)\u001b[0m\u001b[1;33m\u001b[0m\u001b[1;33m\u001b[0m\u001b[0m\n\u001b[0m\u001b[0;32m     64\u001b[0m \u001b[1;33m\u001b[0m\u001b[0m\n\u001b[0;32m     65\u001b[0m             \u001b[1;31m# extra_args > 0\u001b[0m\u001b[1;33m\u001b[0m\u001b[1;33m\u001b[0m\u001b[1;33m\u001b[0m\u001b[0m\n",
      "\u001b[1;32m~\\anaconda3\\lib\\site-packages\\sklearn\\metrics\\_ranking.py\u001b[0m in \u001b[0;36mroc_auc_score\u001b[1;34m(y_true, y_score, average, sample_weight, max_fpr, multi_class, labels)\u001b[0m\n\u001b[0;32m    534\u001b[0m                              \"instead\".format(max_fpr))\n\u001b[0;32m    535\u001b[0m         \u001b[1;32mif\u001b[0m \u001b[0mmulti_class\u001b[0m \u001b[1;33m==\u001b[0m \u001b[1;34m'raise'\u001b[0m\u001b[1;33m:\u001b[0m\u001b[1;33m\u001b[0m\u001b[1;33m\u001b[0m\u001b[0m\n\u001b[1;32m--> 536\u001b[1;33m             \u001b[1;32mraise\u001b[0m \u001b[0mValueError\u001b[0m\u001b[1;33m(\u001b[0m\u001b[1;34m\"multi_class must be in ('ovo', 'ovr')\"\u001b[0m\u001b[1;33m)\u001b[0m\u001b[1;33m\u001b[0m\u001b[1;33m\u001b[0m\u001b[0m\n\u001b[0m\u001b[0;32m    537\u001b[0m         return _multiclass_roc_auc_score(y_true, y_score, labels,\n\u001b[0;32m    538\u001b[0m                                          multi_class, average, sample_weight)\n",
      "\u001b[1;31mValueError\u001b[0m: multi_class must be in ('ovo', 'ovr')"
     ]
    }
   ],
   "source": [
    "y_pred = ovr.predict_proba(x_test)[:, 1]\n",
    "valid_score = roc_auc_score(y_test, y_pred)\n",
    "print('Validation ROC-AUC score:', valid_score)"
   ]
  },
  {
   "cell_type": "code",
   "execution_count": null,
   "id": "b3841eba-597b-4133-b2d1-60702ee21b64",
   "metadata": {},
   "outputs": [
    {
     "data": {
      "application/javascript": [
       "\n",
       "        if (window._pyforest_update_imports_cell) { window._pyforest_update_imports_cell('import glob\\nfrom sklearn.model_selection import GridSearchCV\\nfrom sklearn.model_selection import train_test_split'); }\n",
       "    "
      ],
      "text/plain": [
       "<IPython.core.display.Javascript object>"
      ]
     },
     "metadata": {},
     "output_type": "display_data"
    },
    {
     "name": "stdout",
     "output_type": "stream",
     "text": [
      "Fitting 6 folds for each of 1200 candidates, totalling 7200 fits\n"
     ]
    }
   ],
   "source": [
    "from catboost import CatBoostClassifier\n",
    "from sklearn.multiclass import OneVsRestClassifier\n",
    "from sklearn.preprocessing import MultiLabelBinarizer\n",
    "\n",
    "\n",
    "mlb = MultiLabelBinarizer()\n",
    "mlb.fit(y_train)\n",
    "y_k_hot = mlb.transform(y_train)\n",
    "\n",
    "ovr = OneVsRestClassifier(estimator=CatBoostClassifier(loss_function='Logloss',eval_metric='Accuracy',random_state=1))\n",
    "\n",
    "\n",
    "params = {\n",
    "            'estimator__depth':[2,7,8,9,10],\n",
    "          'estimator__iterations':[250,100,500,1000],\n",
    "          'estimator__learning_rate':[0.001,0.01,0.1], \n",
    "          'estimator__l2_leaf_reg':[1,5,10,100],\n",
    "          'estimator__border_count':[5,10,50,100,200]}\n",
    "\n",
    "grid_cb=GridSearchCV(ovr, param_grid=params, cv=6, n_jobs=-1, verbose=2)\n",
    "grid_cb.fit(x_train,df_y_dummi)\n"
   ]
  },
  {
   "cell_type": "code",
   "execution_count": 39,
   "id": "3da56b5a-5f50-46af-9e1c-337491b34a35",
   "metadata": {},
   "outputs": [
    {
     "name": "stdout",
     "output_type": "stream",
     "text": [
      "Learning rate set to 0.5\n",
      "0:\tlearn: 0.4660645\ttotal: 3.33ms\tremaining: 30ms\n",
      "1:\tlearn: 0.3771323\ttotal: 6.14ms\tremaining: 24.6ms\n",
      "2:\tlearn: 0.3295902\ttotal: 9.38ms\tremaining: 21.9ms\n",
      "3:\tlearn: 0.3054204\ttotal: 13.5ms\tremaining: 20.2ms\n",
      "4:\tlearn: 0.2875814\ttotal: 18.4ms\tremaining: 18.4ms\n",
      "5:\tlearn: 0.2739864\ttotal: 21.7ms\tremaining: 14.5ms\n",
      "6:\tlearn: 0.2652839\ttotal: 24.5ms\tremaining: 10.5ms\n",
      "7:\tlearn: 0.2590965\ttotal: 27.5ms\tremaining: 6.87ms\n",
      "8:\tlearn: 0.2529322\ttotal: 31.3ms\tremaining: 3.47ms\n",
      "9:\tlearn: 0.2490215\ttotal: 34.4ms\tremaining: 0us\n",
      "Learning rate set to 0.5\n",
      "0:\tlearn: 0.4717295\ttotal: 2.39ms\tremaining: 21.5ms\n",
      "1:\tlearn: 0.3808620\ttotal: 4.28ms\tremaining: 17.1ms\n",
      "2:\tlearn: 0.3319569\ttotal: 6.08ms\tremaining: 14.2ms\n",
      "3:\tlearn: 0.3011571\ttotal: 7.96ms\tremaining: 11.9ms\n",
      "4:\tlearn: 0.2840062\ttotal: 9.76ms\tremaining: 9.76ms\n",
      "5:\tlearn: 0.2712792\ttotal: 11.6ms\tremaining: 7.75ms\n",
      "6:\tlearn: 0.2655948\ttotal: 13.8ms\tremaining: 5.93ms\n",
      "7:\tlearn: 0.2607566\ttotal: 15.9ms\tremaining: 3.96ms\n",
      "8:\tlearn: 0.2557457\ttotal: 17.9ms\tremaining: 1.99ms\n",
      "9:\tlearn: 0.2517828\ttotal: 19.8ms\tremaining: 0us\n",
      "Learning rate set to 0.5\n",
      "0:\tlearn: 0.5110205\ttotal: 3.66ms\tremaining: 33ms\n",
      "1:\tlearn: 0.4384871\ttotal: 6.54ms\tremaining: 26.1ms\n",
      "2:\tlearn: 0.4039886\ttotal: 10.1ms\tremaining: 23.5ms\n",
      "3:\tlearn: 0.3843250\ttotal: 18.9ms\tremaining: 28.4ms\n",
      "4:\tlearn: 0.3725302\ttotal: 24.6ms\tremaining: 24.6ms\n",
      "5:\tlearn: 0.3645526\ttotal: 31.3ms\tremaining: 20.8ms\n",
      "6:\tlearn: 0.3596644\ttotal: 36.6ms\tremaining: 15.7ms\n",
      "7:\tlearn: 0.3541384\ttotal: 48.4ms\tremaining: 12.1ms\n",
      "8:\tlearn: 0.3505859\ttotal: 55.4ms\tremaining: 6.15ms\n",
      "9:\tlearn: 0.3481723\ttotal: 62.8ms\tremaining: 0us\n",
      "Learning rate set to 0.5\n",
      "0:\tlearn: 0.5005520\ttotal: 5.09ms\tremaining: 45.8ms\n",
      "1:\tlearn: 0.4247493\ttotal: 7.01ms\tremaining: 28ms\n",
      "2:\tlearn: 0.3888841\ttotal: 8.79ms\tremaining: 20.5ms\n",
      "3:\tlearn: 0.3703196\ttotal: 9.68ms\tremaining: 14.5ms\n",
      "4:\tlearn: 0.3576836\ttotal: 11.6ms\tremaining: 11.6ms\n",
      "5:\tlearn: 0.3513884\ttotal: 13.8ms\tremaining: 9.18ms\n",
      "6:\tlearn: 0.3436372\ttotal: 15.9ms\tremaining: 6.83ms\n",
      "7:\tlearn: 0.3383928\ttotal: 23.5ms\tremaining: 5.87ms\n",
      "8:\tlearn: 0.3351496\ttotal: 26.8ms\tremaining: 2.98ms\n",
      "9:\tlearn: 0.3308092\ttotal: 29.8ms\tremaining: 0us\n",
      "Learning rate set to 0.5\n",
      "0:\tlearn: 0.4939621\ttotal: 3.07ms\tremaining: 27.6ms\n",
      "1:\tlearn: 0.4185846\ttotal: 6.69ms\tremaining: 26.8ms\n",
      "2:\tlearn: 0.3849220\ttotal: 9.58ms\tremaining: 22.3ms\n",
      "3:\tlearn: 0.3631453\ttotal: 13.1ms\tremaining: 19.7ms\n",
      "4:\tlearn: 0.3517476\ttotal: 16.2ms\tremaining: 16.2ms\n",
      "5:\tlearn: 0.3444996\ttotal: 19ms\tremaining: 12.7ms\n",
      "6:\tlearn: 0.3420930\ttotal: 22.9ms\tremaining: 9.8ms\n",
      "7:\tlearn: 0.3364283\ttotal: 26ms\tremaining: 6.49ms\n",
      "8:\tlearn: 0.3314964\ttotal: 28.9ms\tremaining: 3.21ms\n",
      "9:\tlearn: 0.3266694\ttotal: 31.7ms\tremaining: 0us\n",
      "Learning rate set to 0.5\n",
      "0:\tlearn: 0.4284167\ttotal: 2.07ms\tremaining: 18.6ms\n",
      "1:\tlearn: 0.3178427\ttotal: 4.36ms\tremaining: 17.5ms\n",
      "2:\tlearn: 0.2591591\ttotal: 9.52ms\tremaining: 22.2ms\n",
      "3:\tlearn: 0.2262047\ttotal: 12.3ms\tremaining: 18.4ms\n",
      "4:\tlearn: 0.2085281\ttotal: 15.9ms\tremaining: 15.9ms\n",
      "5:\tlearn: 0.1991722\ttotal: 18.1ms\tremaining: 12.1ms\n",
      "6:\tlearn: 0.1922956\ttotal: 20.7ms\tremaining: 8.88ms\n",
      "7:\tlearn: 0.1874989\ttotal: 24.4ms\tremaining: 6.1ms\n",
      "8:\tlearn: 0.1843573\ttotal: 26.3ms\tremaining: 2.93ms\n",
      "9:\tlearn: 0.1760998\ttotal: 28.2ms\tremaining: 0us\n",
      "Learning rate set to 0.5\n",
      "0:\tlearn: 0.5088316\ttotal: 4.3ms\tremaining: 38.7ms\n",
      "1:\tlearn: 0.4341189\ttotal: 6.23ms\tremaining: 24.9ms\n",
      "2:\tlearn: 0.3960391\ttotal: 8.13ms\tremaining: 19ms\n",
      "3:\tlearn: 0.3772660\ttotal: 9.14ms\tremaining: 13.7ms\n",
      "4:\tlearn: 0.3631091\ttotal: 11ms\tremaining: 11ms\n",
      "5:\tlearn: 0.3556462\ttotal: 12.8ms\tremaining: 8.51ms\n",
      "6:\tlearn: 0.3488232\ttotal: 14.5ms\tremaining: 6.23ms\n",
      "7:\tlearn: 0.3433680\ttotal: 16.3ms\tremaining: 4.07ms\n",
      "8:\tlearn: 0.3381675\ttotal: 18.3ms\tremaining: 2.03ms\n",
      "9:\tlearn: 0.3346720\ttotal: 20.5ms\tremaining: 0us\n",
      "Learning rate set to 0.5\n",
      "0:\tlearn: 0.5112709\ttotal: 4.22ms\tremaining: 38ms\n",
      "1:\tlearn: 0.4385403\ttotal: 7ms\tremaining: 28ms\n",
      "2:\tlearn: 0.3947418\ttotal: 9.85ms\tremaining: 23ms\n",
      "3:\tlearn: 0.3735164\ttotal: 12.6ms\tremaining: 19ms\n",
      "4:\tlearn: 0.3598805\ttotal: 15.5ms\tremaining: 15.5ms\n",
      "5:\tlearn: 0.3530776\ttotal: 18.3ms\tremaining: 12.2ms\n",
      "6:\tlearn: 0.3471593\ttotal: 21.3ms\tremaining: 9.11ms\n",
      "7:\tlearn: 0.3391988\ttotal: 24.3ms\tremaining: 6.07ms\n",
      "8:\tlearn: 0.3360971\ttotal: 27ms\tremaining: 3ms\n",
      "9:\tlearn: 0.3309626\ttotal: 29.7ms\tremaining: 0us\n"
     ]
    },
    {
     "data": {
      "text/plain": [
       "OneVsRestClassifier(estimator=<catboost.core.CatBoostClassifier object at 0x0000016E6D3A8850>)"
      ]
     },
     "execution_count": 39,
     "metadata": {},
     "output_type": "execute_result"
    }
   ],
   "source": [
    "from catboost import CatBoostClassifier\n",
    "from sklearn.multiclass import OneVsRestClassifier\n",
    "from sklearn.preprocessing import MultiLabelBinarizer\n",
    "\n",
    "\n",
    "mlb = MultiLabelBinarizer()\n",
    "mlb.fit(y_train)\n",
    "y_k_hot = mlb.transform(y_train)\n",
    "\n",
    "ovr = OneVsRestClassifier(estimator=CatBoostClassifier(iterations=10,random_state=1))\n",
    "ovr.fit(x_train,df_y_dummi)\n",
    "\n"
   ]
  },
  {
   "cell_type": "code",
   "execution_count": 40,
   "id": "40185357-e4ef-482e-8df9-fb86943b9139",
   "metadata": {},
   "outputs": [],
   "source": [
    "y_p=ovr.predict(x_test)"
   ]
  },
  {
   "cell_type": "code",
   "execution_count": 41,
   "id": "496c3f15-5f88-4f12-82ec-a3e9f4e8df06",
   "metadata": {},
   "outputs": [
    {
     "data": {
      "text/plain": [
       "21"
      ]
     },
     "execution_count": 41,
     "metadata": {},
     "output_type": "execute_result"
    }
   ],
   "source": [
    "acc=accuracy_score(df_y_t_dummi, y_p, normalize=False)\n",
    "acc"
   ]
  },
  {
   "cell_type": "code",
   "execution_count": 36,
   "id": "650b732e-db43-4ace-b39c-2329df9dac82",
   "metadata": {},
   "outputs": [],
   "source": [
    "df_y_test = pd.DataFrame(y_test)"
   ]
  },
  {
   "cell_type": "code",
   "execution_count": 37,
   "id": "43e10bd4-f2ac-46e3-926f-a97fd7601e17",
   "metadata": {},
   "outputs": [],
   "source": [
    "df_y_t_dummi=pd.get_dummies(df_y_test)"
   ]
  },
  {
   "cell_type": "code",
   "execution_count": 27,
   "id": "740b9518-acc7-426a-8627-3818927b5590",
   "metadata": {},
   "outputs": [],
   "source": [
    "df_y_dummi=pd.get_dummies(df_y)"
   ]
  },
  {
   "cell_type": "code",
   "execution_count": 21,
   "id": "31c2daf2-f4f0-4316-a2a5-be7fe9f59f77",
   "metadata": {},
   "outputs": [
    {
     "data": {
      "application/javascript": [
       "\n",
       "        if (window._pyforest_update_imports_cell) { window._pyforest_update_imports_cell('import glob\\nfrom sklearn.model_selection import GridSearchCV\\nfrom sklearn.model_selection import train_test_split'); }\n",
       "    "
      ],
      "text/plain": [
       "<IPython.core.display.Javascript object>"
      ]
     },
     "metadata": {},
     "output_type": "display_data"
    },
    {
     "name": "stdout",
     "output_type": "stream",
     "text": [
      "Fitting 6 folds for each of 1200 candidates, totalling 7200 fits\n"
     ]
    },
    {
     "name": "stderr",
     "output_type": "stream",
     "text": [
      "C:\\Users\\Dragox.RS\\anaconda3\\lib\\site-packages\\sklearn\\model_selection\\_search.py:918: UserWarning: One or more of the test scores are non-finite: [nan nan nan ... nan nan nan]\n",
      "  warnings.warn(\n"
     ]
    },
    {
     "ename": "CatBoostError",
     "evalue": "C:/Program Files (x86)/Go Agent/pipelines/BuildMaster/catboost.git/catboost/private/libs/target/target_converter.cpp:378: Target with classes must contain only 2 unique values for binary classification",
     "output_type": "error",
     "traceback": [
      "\u001b[1;31m---------------------------------------------------------------------------\u001b[0m",
      "\u001b[1;31mCatBoostError\u001b[0m                             Traceback (most recent call last)",
      "\u001b[1;32m<ipython-input-21-e75d8e232eab>\u001b[0m in \u001b[0;36m<module>\u001b[1;34m\u001b[0m\n\u001b[0;32m     11\u001b[0m \u001b[1;33m\u001b[0m\u001b[0m\n\u001b[0;32m     12\u001b[0m \u001b[0mgrid_cb\u001b[0m\u001b[1;33m=\u001b[0m\u001b[0mGridSearchCV\u001b[0m\u001b[1;33m(\u001b[0m\u001b[0mmodel\u001b[0m\u001b[1;33m,\u001b[0m \u001b[0mparam_grid\u001b[0m\u001b[1;33m=\u001b[0m\u001b[0mparams\u001b[0m\u001b[1;33m,\u001b[0m \u001b[0mcv\u001b[0m\u001b[1;33m=\u001b[0m\u001b[1;36m6\u001b[0m\u001b[1;33m,\u001b[0m \u001b[0mn_jobs\u001b[0m\u001b[1;33m=\u001b[0m\u001b[1;33m-\u001b[0m\u001b[1;36m1\u001b[0m\u001b[1;33m,\u001b[0m \u001b[0mverbose\u001b[0m\u001b[1;33m=\u001b[0m\u001b[1;36m2\u001b[0m\u001b[1;33m)\u001b[0m\u001b[1;33m\u001b[0m\u001b[1;33m\u001b[0m\u001b[0m\n\u001b[1;32m---> 13\u001b[1;33m \u001b[0mgrid_cb\u001b[0m\u001b[1;33m.\u001b[0m\u001b[0mfit\u001b[0m\u001b[1;33m(\u001b[0m\u001b[0mx_train\u001b[0m\u001b[1;33m,\u001b[0m \u001b[0my_train\u001b[0m\u001b[1;33m)\u001b[0m\u001b[1;33m\u001b[0m\u001b[1;33m\u001b[0m\u001b[0m\n\u001b[0m\u001b[0;32m     14\u001b[0m \u001b[1;33m\u001b[0m\u001b[0m\n\u001b[0;32m     15\u001b[0m \u001b[1;33m\u001b[0m\u001b[0m\n",
      "\u001b[1;32m~\\anaconda3\\lib\\site-packages\\sklearn\\utils\\validation.py\u001b[0m in \u001b[0;36minner_f\u001b[1;34m(*args, **kwargs)\u001b[0m\n\u001b[0;32m     61\u001b[0m             \u001b[0mextra_args\u001b[0m \u001b[1;33m=\u001b[0m \u001b[0mlen\u001b[0m\u001b[1;33m(\u001b[0m\u001b[0margs\u001b[0m\u001b[1;33m)\u001b[0m \u001b[1;33m-\u001b[0m \u001b[0mlen\u001b[0m\u001b[1;33m(\u001b[0m\u001b[0mall_args\u001b[0m\u001b[1;33m)\u001b[0m\u001b[1;33m\u001b[0m\u001b[1;33m\u001b[0m\u001b[0m\n\u001b[0;32m     62\u001b[0m             \u001b[1;32mif\u001b[0m \u001b[0mextra_args\u001b[0m \u001b[1;33m<=\u001b[0m \u001b[1;36m0\u001b[0m\u001b[1;33m:\u001b[0m\u001b[1;33m\u001b[0m\u001b[1;33m\u001b[0m\u001b[0m\n\u001b[1;32m---> 63\u001b[1;33m                 \u001b[1;32mreturn\u001b[0m \u001b[0mf\u001b[0m\u001b[1;33m(\u001b[0m\u001b[1;33m*\u001b[0m\u001b[0margs\u001b[0m\u001b[1;33m,\u001b[0m \u001b[1;33m**\u001b[0m\u001b[0mkwargs\u001b[0m\u001b[1;33m)\u001b[0m\u001b[1;33m\u001b[0m\u001b[1;33m\u001b[0m\u001b[0m\n\u001b[0m\u001b[0;32m     64\u001b[0m \u001b[1;33m\u001b[0m\u001b[0m\n\u001b[0;32m     65\u001b[0m             \u001b[1;31m# extra_args > 0\u001b[0m\u001b[1;33m\u001b[0m\u001b[1;33m\u001b[0m\u001b[1;33m\u001b[0m\u001b[0m\n",
      "\u001b[1;32m~\\anaconda3\\lib\\site-packages\\sklearn\\model_selection\\_search.py\u001b[0m in \u001b[0;36mfit\u001b[1;34m(self, X, y, groups, **fit_params)\u001b[0m\n\u001b[0;32m    878\u001b[0m             \u001b[0mrefit_start_time\u001b[0m \u001b[1;33m=\u001b[0m \u001b[0mtime\u001b[0m\u001b[1;33m.\u001b[0m\u001b[0mtime\u001b[0m\u001b[1;33m(\u001b[0m\u001b[1;33m)\u001b[0m\u001b[1;33m\u001b[0m\u001b[1;33m\u001b[0m\u001b[0m\n\u001b[0;32m    879\u001b[0m             \u001b[1;32mif\u001b[0m \u001b[0my\u001b[0m \u001b[1;32mis\u001b[0m \u001b[1;32mnot\u001b[0m \u001b[1;32mNone\u001b[0m\u001b[1;33m:\u001b[0m\u001b[1;33m\u001b[0m\u001b[1;33m\u001b[0m\u001b[0m\n\u001b[1;32m--> 880\u001b[1;33m                 \u001b[0mself\u001b[0m\u001b[1;33m.\u001b[0m\u001b[0mbest_estimator_\u001b[0m\u001b[1;33m.\u001b[0m\u001b[0mfit\u001b[0m\u001b[1;33m(\u001b[0m\u001b[0mX\u001b[0m\u001b[1;33m,\u001b[0m \u001b[0my\u001b[0m\u001b[1;33m,\u001b[0m \u001b[1;33m**\u001b[0m\u001b[0mfit_params\u001b[0m\u001b[1;33m)\u001b[0m\u001b[1;33m\u001b[0m\u001b[1;33m\u001b[0m\u001b[0m\n\u001b[0m\u001b[0;32m    881\u001b[0m             \u001b[1;32melse\u001b[0m\u001b[1;33m:\u001b[0m\u001b[1;33m\u001b[0m\u001b[1;33m\u001b[0m\u001b[0m\n\u001b[0;32m    882\u001b[0m                 \u001b[0mself\u001b[0m\u001b[1;33m.\u001b[0m\u001b[0mbest_estimator_\u001b[0m\u001b[1;33m.\u001b[0m\u001b[0mfit\u001b[0m\u001b[1;33m(\u001b[0m\u001b[0mX\u001b[0m\u001b[1;33m,\u001b[0m \u001b[1;33m**\u001b[0m\u001b[0mfit_params\u001b[0m\u001b[1;33m)\u001b[0m\u001b[1;33m\u001b[0m\u001b[1;33m\u001b[0m\u001b[0m\n",
      "\u001b[1;32m~\\anaconda3\\lib\\site-packages\\catboost\\core.py\u001b[0m in \u001b[0;36mfit\u001b[1;34m(self, X, y, cat_features, text_features, embedding_features, sample_weight, baseline, use_best_model, eval_set, verbose, logging_level, plot, column_description, verbose_eval, metric_period, silent, early_stopping_rounds, save_snapshot, snapshot_file, snapshot_interval, init_model, callbacks, log_cout, log_cerr)\u001b[0m\n\u001b[0;32m   4673\u001b[0m             \u001b[0mCatBoostClassifier\u001b[0m\u001b[1;33m.\u001b[0m\u001b[0m_check_is_compatible_loss\u001b[0m\u001b[1;33m(\u001b[0m\u001b[0mparams\u001b[0m\u001b[1;33m[\u001b[0m\u001b[1;34m'loss_function'\u001b[0m\u001b[1;33m]\u001b[0m\u001b[1;33m)\u001b[0m\u001b[1;33m\u001b[0m\u001b[1;33m\u001b[0m\u001b[0m\n\u001b[0;32m   4674\u001b[0m \u001b[1;33m\u001b[0m\u001b[0m\n\u001b[1;32m-> 4675\u001b[1;33m         self._fit(X, y, cat_features, text_features, embedding_features, None, sample_weight, None, None, None, None, baseline, use_best_model,\n\u001b[0m\u001b[0;32m   4676\u001b[0m                   \u001b[0meval_set\u001b[0m\u001b[1;33m,\u001b[0m \u001b[0mverbose\u001b[0m\u001b[1;33m,\u001b[0m \u001b[0mlogging_level\u001b[0m\u001b[1;33m,\u001b[0m \u001b[0mplot\u001b[0m\u001b[1;33m,\u001b[0m \u001b[0mcolumn_description\u001b[0m\u001b[1;33m,\u001b[0m \u001b[0mverbose_eval\u001b[0m\u001b[1;33m,\u001b[0m \u001b[0mmetric_period\u001b[0m\u001b[1;33m,\u001b[0m\u001b[1;33m\u001b[0m\u001b[1;33m\u001b[0m\u001b[0m\n\u001b[0;32m   4677\u001b[0m                   silent, early_stopping_rounds, save_snapshot, snapshot_file, snapshot_interval, init_model, callbacks, log_cout, log_cerr)\n",
      "\u001b[1;32m~\\anaconda3\\lib\\site-packages\\catboost\\core.py\u001b[0m in \u001b[0;36m_fit\u001b[1;34m(self, X, y, cat_features, text_features, embedding_features, pairs, sample_weight, group_id, group_weight, subgroup_id, pairs_weight, baseline, use_best_model, eval_set, verbose, logging_level, plot, column_description, verbose_eval, metric_period, silent, early_stopping_rounds, save_snapshot, snapshot_file, snapshot_interval, init_model, callbacks, log_cout, log_cerr)\u001b[0m\n\u001b[0;32m   1995\u001b[0m         \u001b[1;32mwith\u001b[0m \u001b[0mlog_fixup\u001b[0m\u001b[1;33m(\u001b[0m\u001b[0mlog_cout\u001b[0m\u001b[1;33m,\u001b[0m \u001b[0mlog_cerr\u001b[0m\u001b[1;33m)\u001b[0m\u001b[1;33m,\u001b[0m\u001b[0;31m \u001b[0m\u001b[0;31m\\\u001b[0m\u001b[1;33m\u001b[0m\u001b[1;33m\u001b[0m\u001b[0m\n\u001b[0;32m   1996\u001b[0m             \u001b[0mplot_wrapper\u001b[0m\u001b[1;33m(\u001b[0m\u001b[0mplot\u001b[0m\u001b[1;33m,\u001b[0m \u001b[1;33m[\u001b[0m\u001b[0m_get_train_dir\u001b[0m\u001b[1;33m(\u001b[0m\u001b[0mself\u001b[0m\u001b[1;33m.\u001b[0m\u001b[0mget_params\u001b[0m\u001b[1;33m(\u001b[0m\u001b[1;33m)\u001b[0m\u001b[1;33m)\u001b[0m\u001b[1;33m]\u001b[0m\u001b[1;33m)\u001b[0m\u001b[1;33m:\u001b[0m\u001b[1;33m\u001b[0m\u001b[1;33m\u001b[0m\u001b[0m\n\u001b[1;32m-> 1997\u001b[1;33m             self._train(\n\u001b[0m\u001b[0;32m   1998\u001b[0m                 \u001b[0mtrain_pool\u001b[0m\u001b[1;33m,\u001b[0m\u001b[1;33m\u001b[0m\u001b[1;33m\u001b[0m\u001b[0m\n\u001b[0;32m   1999\u001b[0m                 \u001b[0mtrain_params\u001b[0m\u001b[1;33m[\u001b[0m\u001b[1;34m\"eval_sets\"\u001b[0m\u001b[1;33m]\u001b[0m\u001b[1;33m,\u001b[0m\u001b[1;33m\u001b[0m\u001b[1;33m\u001b[0m\u001b[0m\n",
      "\u001b[1;32m~\\anaconda3\\lib\\site-packages\\catboost\\core.py\u001b[0m in \u001b[0;36m_train\u001b[1;34m(self, train_pool, test_pool, params, allow_clear_pool, init_model)\u001b[0m\n\u001b[0;32m   1426\u001b[0m \u001b[1;33m\u001b[0m\u001b[0m\n\u001b[0;32m   1427\u001b[0m     \u001b[1;32mdef\u001b[0m \u001b[0m_train\u001b[0m\u001b[1;33m(\u001b[0m\u001b[0mself\u001b[0m\u001b[1;33m,\u001b[0m \u001b[0mtrain_pool\u001b[0m\u001b[1;33m,\u001b[0m \u001b[0mtest_pool\u001b[0m\u001b[1;33m,\u001b[0m \u001b[0mparams\u001b[0m\u001b[1;33m,\u001b[0m \u001b[0mallow_clear_pool\u001b[0m\u001b[1;33m,\u001b[0m \u001b[0minit_model\u001b[0m\u001b[1;33m)\u001b[0m\u001b[1;33m:\u001b[0m\u001b[1;33m\u001b[0m\u001b[1;33m\u001b[0m\u001b[0m\n\u001b[1;32m-> 1428\u001b[1;33m         \u001b[0mself\u001b[0m\u001b[1;33m.\u001b[0m\u001b[0m_object\u001b[0m\u001b[1;33m.\u001b[0m\u001b[0m_train\u001b[0m\u001b[1;33m(\u001b[0m\u001b[0mtrain_pool\u001b[0m\u001b[1;33m,\u001b[0m \u001b[0mtest_pool\u001b[0m\u001b[1;33m,\u001b[0m \u001b[0mparams\u001b[0m\u001b[1;33m,\u001b[0m \u001b[0mallow_clear_pool\u001b[0m\u001b[1;33m,\u001b[0m \u001b[0minit_model\u001b[0m\u001b[1;33m.\u001b[0m\u001b[0m_object\u001b[0m \u001b[1;32mif\u001b[0m \u001b[0minit_model\u001b[0m \u001b[1;32melse\u001b[0m \u001b[1;32mNone\u001b[0m\u001b[1;33m)\u001b[0m\u001b[1;33m\u001b[0m\u001b[1;33m\u001b[0m\u001b[0m\n\u001b[0m\u001b[0;32m   1429\u001b[0m         \u001b[0mself\u001b[0m\u001b[1;33m.\u001b[0m\u001b[0m_set_trained_model_attributes\u001b[0m\u001b[1;33m(\u001b[0m\u001b[1;33m)\u001b[0m\u001b[1;33m\u001b[0m\u001b[1;33m\u001b[0m\u001b[0m\n\u001b[0;32m   1430\u001b[0m \u001b[1;33m\u001b[0m\u001b[0m\n",
      "\u001b[1;32m_catboost.pyx\u001b[0m in \u001b[0;36m_catboost._CatBoost._train\u001b[1;34m()\u001b[0m\n",
      "\u001b[1;32m_catboost.pyx\u001b[0m in \u001b[0;36m_catboost._CatBoost._train\u001b[1;34m()\u001b[0m\n",
      "\u001b[1;31mCatBoostError\u001b[0m: C:/Program Files (x86)/Go Agent/pipelines/BuildMaster/catboost.git/catboost/private/libs/target/target_converter.cpp:378: Target with classes must contain only 2 unique values for binary classification"
     ]
    }
   ],
   "source": [
    "model = CatBoostClassifier(iterations=1000, \n",
    "                              loss_function='Logloss', \n",
    "                              eval_metric='Accuracy')\n",
    "\n",
    "params = {\n",
    "            'depth':[2,7,8,9,10],\n",
    "          'iterations':[250,100,500,1000],\n",
    "          'learning_rate':[0.001,0.01,0.1], \n",
    "          'l2_leaf_reg':[1,5,10,100],\n",
    "          'border_count':[5,10,50,100,200]}\n",
    "\n",
    "grid_cb=GridSearchCV(model, param_grid=params, cv=6, n_jobs=-1, verbose=2)\n",
    "grid_cb.fit(x_train, y_train)\n",
    "\n",
    "\n",
    "\n",
    "prediction_cb = grid_rf.predict(x_test)\n",
    "\n",
    "print(grid_cb.best_params_)\n",
    "print('Score of best cb_classifier :\\t{}'.format(grid_cb.score(x_test, y_test)))\n",
    "print(classification_report(y_test, prediction_cb))"
   ]
  },
  {
   "cell_type": "code",
   "execution_count": 20,
   "id": "30084eff-6afa-43a6-957a-def3670ffa9b",
   "metadata": {},
   "outputs": [
    {
     "ename": "AxisError",
     "evalue": "axis 1 is out of bounds for array of dimension 1",
     "output_type": "error",
     "traceback": [
      "\u001b[1;31m---------------------------------------------------------------------------\u001b[0m",
      "\u001b[1;31mAxisError\u001b[0m                                 Traceback (most recent call last)",
      "\u001b[1;32m<ipython-input-20-b76bfaff0192>\u001b[0m in \u001b[0;36m<module>\u001b[1;34m\u001b[0m\n\u001b[0;32m      1\u001b[0m \u001b[0my_pred\u001b[0m \u001b[1;33m=\u001b[0m \u001b[0mbase_model\u001b[0m\u001b[1;33m.\u001b[0m\u001b[0mpredict_proba\u001b[0m\u001b[1;33m(\u001b[0m\u001b[0mx_test\u001b[0m\u001b[1;33m)\u001b[0m\u001b[1;33m[\u001b[0m\u001b[1;33m:\u001b[0m\u001b[1;33m,\u001b[0m \u001b[1;36m1\u001b[0m\u001b[1;33m]\u001b[0m\u001b[1;33m\u001b[0m\u001b[1;33m\u001b[0m\u001b[0m\n\u001b[1;32m----> 2\u001b[1;33m \u001b[0mvalid_score\u001b[0m \u001b[1;33m=\u001b[0m \u001b[0mroc_auc_score\u001b[0m\u001b[1;33m(\u001b[0m\u001b[0my_test\u001b[0m\u001b[1;33m,\u001b[0m \u001b[0my_pred\u001b[0m\u001b[1;33m,\u001b[0m\u001b[0mmulti_class\u001b[0m\u001b[1;33m=\u001b[0m\u001b[1;34m\"ovo\"\u001b[0m\u001b[1;33m)\u001b[0m\u001b[1;33m\u001b[0m\u001b[1;33m\u001b[0m\u001b[0m\n\u001b[0m\u001b[0;32m      3\u001b[0m \u001b[0mprint\u001b[0m\u001b[1;33m(\u001b[0m\u001b[1;34m'Validation ROC-AUC score:'\u001b[0m\u001b[1;33m,\u001b[0m \u001b[0mvalid_score\u001b[0m\u001b[1;33m)\u001b[0m\u001b[1;33m\u001b[0m\u001b[1;33m\u001b[0m\u001b[0m\n",
      "\u001b[1;32m~\\anaconda3\\lib\\site-packages\\sklearn\\utils\\validation.py\u001b[0m in \u001b[0;36minner_f\u001b[1;34m(*args, **kwargs)\u001b[0m\n\u001b[0;32m     61\u001b[0m             \u001b[0mextra_args\u001b[0m \u001b[1;33m=\u001b[0m \u001b[0mlen\u001b[0m\u001b[1;33m(\u001b[0m\u001b[0margs\u001b[0m\u001b[1;33m)\u001b[0m \u001b[1;33m-\u001b[0m \u001b[0mlen\u001b[0m\u001b[1;33m(\u001b[0m\u001b[0mall_args\u001b[0m\u001b[1;33m)\u001b[0m\u001b[1;33m\u001b[0m\u001b[1;33m\u001b[0m\u001b[0m\n\u001b[0;32m     62\u001b[0m             \u001b[1;32mif\u001b[0m \u001b[0mextra_args\u001b[0m \u001b[1;33m<=\u001b[0m \u001b[1;36m0\u001b[0m\u001b[1;33m:\u001b[0m\u001b[1;33m\u001b[0m\u001b[1;33m\u001b[0m\u001b[0m\n\u001b[1;32m---> 63\u001b[1;33m                 \u001b[1;32mreturn\u001b[0m \u001b[0mf\u001b[0m\u001b[1;33m(\u001b[0m\u001b[1;33m*\u001b[0m\u001b[0margs\u001b[0m\u001b[1;33m,\u001b[0m \u001b[1;33m**\u001b[0m\u001b[0mkwargs\u001b[0m\u001b[1;33m)\u001b[0m\u001b[1;33m\u001b[0m\u001b[1;33m\u001b[0m\u001b[0m\n\u001b[0m\u001b[0;32m     64\u001b[0m \u001b[1;33m\u001b[0m\u001b[0m\n\u001b[0;32m     65\u001b[0m             \u001b[1;31m# extra_args > 0\u001b[0m\u001b[1;33m\u001b[0m\u001b[1;33m\u001b[0m\u001b[1;33m\u001b[0m\u001b[0m\n",
      "\u001b[1;32m~\\anaconda3\\lib\\site-packages\\sklearn\\metrics\\_ranking.py\u001b[0m in \u001b[0;36mroc_auc_score\u001b[1;34m(y_true, y_score, average, sample_weight, max_fpr, multi_class, labels)\u001b[0m\n\u001b[0;32m    535\u001b[0m         \u001b[1;32mif\u001b[0m \u001b[0mmulti_class\u001b[0m \u001b[1;33m==\u001b[0m \u001b[1;34m'raise'\u001b[0m\u001b[1;33m:\u001b[0m\u001b[1;33m\u001b[0m\u001b[1;33m\u001b[0m\u001b[0m\n\u001b[0;32m    536\u001b[0m             \u001b[1;32mraise\u001b[0m \u001b[0mValueError\u001b[0m\u001b[1;33m(\u001b[0m\u001b[1;34m\"multi_class must be in ('ovo', 'ovr')\"\u001b[0m\u001b[1;33m)\u001b[0m\u001b[1;33m\u001b[0m\u001b[1;33m\u001b[0m\u001b[0m\n\u001b[1;32m--> 537\u001b[1;33m         return _multiclass_roc_auc_score(y_true, y_score, labels,\n\u001b[0m\u001b[0;32m    538\u001b[0m                                          multi_class, average, sample_weight)\n\u001b[0;32m    539\u001b[0m     \u001b[1;32melif\u001b[0m \u001b[0my_type\u001b[0m \u001b[1;33m==\u001b[0m \u001b[1;34m\"binary\"\u001b[0m\u001b[1;33m:\u001b[0m\u001b[1;33m\u001b[0m\u001b[1;33m\u001b[0m\u001b[0m\n",
      "\u001b[1;32m~\\anaconda3\\lib\\site-packages\\sklearn\\metrics\\_ranking.py\u001b[0m in \u001b[0;36m_multiclass_roc_auc_score\u001b[1;34m(y_true, y_score, labels, multi_class, average, sample_weight)\u001b[0m\n\u001b[0;32m    593\u001b[0m     \"\"\"\n\u001b[0;32m    594\u001b[0m     \u001b[1;31m# validation of the input y_score\u001b[0m\u001b[1;33m\u001b[0m\u001b[1;33m\u001b[0m\u001b[1;33m\u001b[0m\u001b[0m\n\u001b[1;32m--> 595\u001b[1;33m     \u001b[1;32mif\u001b[0m \u001b[1;32mnot\u001b[0m \u001b[0mnp\u001b[0m\u001b[1;33m.\u001b[0m\u001b[0mallclose\u001b[0m\u001b[1;33m(\u001b[0m\u001b[1;36m1\u001b[0m\u001b[1;33m,\u001b[0m \u001b[0my_score\u001b[0m\u001b[1;33m.\u001b[0m\u001b[0msum\u001b[0m\u001b[1;33m(\u001b[0m\u001b[0maxis\u001b[0m\u001b[1;33m=\u001b[0m\u001b[1;36m1\u001b[0m\u001b[1;33m)\u001b[0m\u001b[1;33m)\u001b[0m\u001b[1;33m:\u001b[0m\u001b[1;33m\u001b[0m\u001b[1;33m\u001b[0m\u001b[0m\n\u001b[0m\u001b[0;32m    596\u001b[0m         raise ValueError(\n\u001b[0;32m    597\u001b[0m             \u001b[1;34m\"Target scores need to be probabilities for multiclass \"\u001b[0m\u001b[1;33m\u001b[0m\u001b[1;33m\u001b[0m\u001b[0m\n",
      "\u001b[1;32m~\\anaconda3\\lib\\site-packages\\numpy\\core\\_methods.py\u001b[0m in \u001b[0;36m_sum\u001b[1;34m(a, axis, dtype, out, keepdims, initial, where)\u001b[0m\n\u001b[0;32m     46\u001b[0m def _sum(a, axis=None, dtype=None, out=None, keepdims=False,\n\u001b[0;32m     47\u001b[0m          initial=_NoValue, where=True):\n\u001b[1;32m---> 48\u001b[1;33m     \u001b[1;32mreturn\u001b[0m \u001b[0mumr_sum\u001b[0m\u001b[1;33m(\u001b[0m\u001b[0ma\u001b[0m\u001b[1;33m,\u001b[0m \u001b[0maxis\u001b[0m\u001b[1;33m,\u001b[0m \u001b[0mdtype\u001b[0m\u001b[1;33m,\u001b[0m \u001b[0mout\u001b[0m\u001b[1;33m,\u001b[0m \u001b[0mkeepdims\u001b[0m\u001b[1;33m,\u001b[0m \u001b[0minitial\u001b[0m\u001b[1;33m,\u001b[0m \u001b[0mwhere\u001b[0m\u001b[1;33m)\u001b[0m\u001b[1;33m\u001b[0m\u001b[1;33m\u001b[0m\u001b[0m\n\u001b[0m\u001b[0;32m     49\u001b[0m \u001b[1;33m\u001b[0m\u001b[0m\n\u001b[0;32m     50\u001b[0m def _prod(a, axis=None, dtype=None, out=None, keepdims=False,\n",
      "\u001b[1;31mAxisError\u001b[0m: axis 1 is out of bounds for array of dimension 1"
     ]
    }
   ],
   "source": [
    "y_pred = base_model.predict_proba(x_test)[:, 1]\n",
    "valid_score = roc_auc_score(y_test, y_pred,multi_class=\"ovo\")\n",
    "print('Validation ROC-AUC score:', valid_score)"
   ]
  },
  {
   "cell_type": "code",
   "execution_count": 21,
   "id": "f41d49f3-e8a4-4ded-9b7b-84c5e492b934",
   "metadata": {},
   "outputs": [
    {
     "data": {
      "application/javascript": [
       "\n",
       "        if (window._pyforest_update_imports_cell) { window._pyforest_update_imports_cell('import glob\\nfrom sklearn.model_selection import train_test_split\\nfrom sklearn.model_selection import GridSearchCV\\nfrom sklearn.ensemble import RandomForestClassifier\\nimport sklearn'); }\n",
       "    "
      ],
      "text/plain": [
       "<IPython.core.display.Javascript object>"
      ]
     },
     "metadata": {},
     "output_type": "display_data"
    },
    {
     "name": "stdout",
     "output_type": "stream",
     "text": [
      "Fitting 6 folds for each of 24 candidates, totalling 144 fits\n",
      "{'C': 10, 'loss': 'squared_hinge', 'multi_class': 'ovr'}\n",
      "Score of best svc_classifier :\t0.2465277777777778\n"
     ]
    },
    {
     "name": "stderr",
     "output_type": "stream",
     "text": [
      "C:\\Users\\Dragox.RS\\anaconda3\\lib\\site-packages\\sklearn\\svm\\_base.py:985: ConvergenceWarning: Liblinear failed to converge, increase the number of iterations.\n",
      "  warnings.warn(\"Liblinear failed to converge, increase \"\n"
     ]
    },
    {
     "ename": "NameError",
     "evalue": "name 'classification_report' is not defined",
     "output_type": "error",
     "traceback": [
      "\u001b[1;31m---------------------------------------------------------------------------\u001b[0m",
      "\u001b[1;31mNameError\u001b[0m                                 Traceback (most recent call last)",
      "\u001b[1;32m<ipython-input-21-dd2b2b2127e2>\u001b[0m in \u001b[0;36m<module>\u001b[1;34m\u001b[0m\n\u001b[0;32m     16\u001b[0m \u001b[0mprint\u001b[0m\u001b[1;33m(\u001b[0m\u001b[0mgrid_svc\u001b[0m\u001b[1;33m.\u001b[0m\u001b[0mbest_params_\u001b[0m\u001b[1;33m)\u001b[0m\u001b[1;33m\u001b[0m\u001b[1;33m\u001b[0m\u001b[0m\n\u001b[0;32m     17\u001b[0m \u001b[0mprint\u001b[0m\u001b[1;33m(\u001b[0m\u001b[1;34m'Score of best svc_classifier :\\t{}'\u001b[0m\u001b[1;33m.\u001b[0m\u001b[0mformat\u001b[0m\u001b[1;33m(\u001b[0m\u001b[0mgrid_svc\u001b[0m\u001b[1;33m.\u001b[0m\u001b[0mscore\u001b[0m\u001b[1;33m(\u001b[0m\u001b[0mx_test\u001b[0m\u001b[1;33m,\u001b[0m \u001b[0my_test\u001b[0m\u001b[1;33m)\u001b[0m\u001b[1;33m)\u001b[0m\u001b[1;33m)\u001b[0m\u001b[1;33m\u001b[0m\u001b[1;33m\u001b[0m\u001b[0m\n\u001b[1;32m---> 18\u001b[1;33m \u001b[0mprint\u001b[0m\u001b[1;33m(\u001b[0m\u001b[0mclassification_report\u001b[0m\u001b[1;33m(\u001b[0m\u001b[0my_test\u001b[0m\u001b[1;33m,\u001b[0m \u001b[0mprediction_svc\u001b[0m\u001b[1;33m)\u001b[0m\u001b[1;33m)\u001b[0m\u001b[1;33m\u001b[0m\u001b[1;33m\u001b[0m\u001b[0m\n\u001b[0m",
      "\u001b[1;31mNameError\u001b[0m: name 'classification_report' is not defined"
     ]
    }
   ],
   "source": [
    "%timeit\n",
    "from sklearn.svm import LinearSVC\n",
    "#SVC\n",
    "SVMC = LinearSVC()\n",
    "    \n",
    "svc_param_grid = {'multi_class': [\"ovr\", \"crammer_singer\"],\n",
    "                  \"loss\": [\"hinge\", \"squared_hinge\"],\n",
    "                  'C': [0.1,1, 10, 50, 100, 1000]}\n",
    "\n",
    "grid_svc=GridSearchCV(SVMC, param_grid=svc_param_grid, cv=6, n_jobs=-1, verbose=2)\n",
    "grid_svc.fit(x_train, y_train)\n",
    "\n",
    "\n",
    "\n",
    "prediction_svc = grid_svc.predict(x_test)\n",
    "\n",
    "print(grid_svc.best_params_)\n",
    "print('Score of best svc_classifier :\\t{}'.format(grid_svc.score(x_test, y_test)))\n",
    "print(classification_report(y_test, prediction_svc))\n"
   ]
  },
  {
   "cell_type": "code",
   "execution_count": null,
   "id": "f1f176f8-2f66-46ac-a78b-738da4a06806",
   "metadata": {},
   "outputs": [],
   "source": [
    "\n",
    "\n",
    "#SVC\n",
    "SVMC = SVC(probability=True)\n",
    "    \n",
    "svc_param_grid = {'kernel': ['rbf', 'poly', 'sigmoid','linear'], \n",
    "                  'gamma': [ 0.001, 0.01, 0.1, 1],\n",
    "                  'C': [0.1,1, 10, 50, 100, 1000]}\n",
    "\n",
    "grid_svc=GridSearchCV(SVMC, param_grid=svc_param_grid, cv=6, n_jobs=-1, verbose=2)\n",
    "grid_svc.fit(X_train, y_train)\n",
    "\n",
    "\n",
    "\n",
    "prediction_svc = grid_svc.predict(X_test)\n",
    "\n",
    "print(grid_svc.best_params_)\n",
    "print('Score of best svc_classifier :\\t{}'.format(grid_svc.score(X_test, y_test)))\n",
    "print(classification_report(y_test, prediction_svc))\n",
    "\n",
    "\n",
    "# {'C': 50, 'gamma': 0.01, 'kernel': 'rbf'}\n",
    "# Score of best svc_classifier :\t0.823728813559322\n",
    "#               precision    recall  f1-score   support\n",
    "\n",
    "#          0.0       0.84      0.86      0.85       174\n",
    "#          1.0       0.79      0.77      0.78       121\n",
    "\n",
    "#     accuracy                           0.82       295\n",
    "#    macro avg       0.82      0.82      0.82       295\n",
    "# weighted avg       0.82      0.82      0.82       295\n",
    "\n",
    "# [Parallel(n_jobs=-1)]: Done 576 out of 576 | elapsed: 19.5min finished\n",
    "\n",
    "\n",
    "#ADA_BOOST\n",
    "\n",
    "TC = DecisionTreeClassifier(random_state=45)\n",
    "\n",
    "ABC = AdaBoostClassifier(base_estimator = TC)\n",
    "\n",
    "\n",
    "grid_ada_param={\n",
    "            'base_estimator__criterion':['gini','entropy'],\n",
    "            'base_estimator__splitter':['best','random'],\n",
    "            'base_estimator__max_depth':[5,6,8],\n",
    "            'base_estimator__min_samples_leaf':[6,10,12],\n",
    "            'base_estimator__max_features':['sqrt','log2'],\n",
    "            \n",
    "            'n_estimators': [100,300,500],\n",
    "            'learning_rate':[0.001,0.05,0.01,0.1],\n",
    "            'algorithm':['SAMME', 'SAMME.R']\n",
    "    }\n",
    "grid_ada_param={\n",
    "            'base_estimator__criterion':['gini'],\n",
    "            'base_estimator__splitter':['best'],\n",
    "            'base_estimator__max_depth':[3],\n",
    "            'base_estimator__min_samples_leaf':[13,12],\n",
    "            'base_estimator__max_features':['sqrt'],\n",
    "            \n",
    "            'n_estimators': [100],\n",
    "            'learning_rate':[0.09,0.095],\n",
    "            'algorithm':['SAMME']\n",
    "    }\n",
    "\n",
    "grid_ada=GridSearchCV(ABC, param_grid=grid_ada_param, cv=6, n_jobs=-1, verbose=2)\n",
    "grid_ada.fit(X_train, y_train)\n",
    "\n",
    "\n",
    "\n",
    "prediction_ada = grid_ada.predict(X_test)\n",
    "\n",
    "print(grid_ada.best_params_)\n",
    "print('Score of best ada_classifier :\\t{}'.format(grid_ada.score(X_test, y_test)))\n",
    "print(classification_report(y_test, prediction_ada))\n",
    "# Score of best ada_classifier :\t0.8338983050847457\n",
    "\n",
    "\n",
    "# #XGBoost\n",
    "\n",
    "xgb_model = xgb.XGBClassifier(objective = \"reg:logistic\")\n",
    "\n",
    "params = {\n",
    "            'eta': np.arange(0.1, 0.26, 0.05).tolist(),\n",
    "            'min_child_weight': np.logspace(-2, 1.5, 3).tolist(),\n",
    "            'gamma': [5,10,2],\n",
    "            'subsample': np.logspace(-2, 1.5, 3),\n",
    "            'colsample_bytree': np.logspace(-2, 1.5, 3).tolist(),\n",
    "              'n_estimators': [100,300]\n",
    "        }\n",
    "\n",
    "\n",
    "xgb_clf = xgb.XGBClassifier(use_label_encoder=False)\n",
    "\n",
    "parameters = {'objective':['binary:logitraw','binary:logistic','binary:hinge'],\n",
    "              'learning_rate': [0.03], #so called `eta` value\n",
    "              'max_depth': [5],\n",
    "              'min_child_weight': [4],\n",
    "              'subsample': [0.7],\n",
    "              'colsample_bytree': [0.7],\n",
    "              'n_estimators': [500]}\n",
    "\n",
    "grid_xgb = GridSearchCV(xgb_clf, \n",
    "                    param_grid = params, \n",
    "                    n_jobs = -1, \n",
    "                    cv = 5,\n",
    "                    refit = \"accuracy_score\",\n",
    "                    verbose=2)\n",
    "\n",
    "grid_xgb.fit(X_train, y_train)\n",
    "\n",
    "prediction_xgb = grid_xgb.predict(X_test)\n",
    "\n",
    "print(grid_xgb.best_params_)\n",
    "print('Score of best xgb_regressor :\\t{}'.format(grid_xgb.score(X_test, y_test)))\n",
    "\n",
    "# {'colsample_bytree': 0.01, 'eta': 0.20000000000000004, 'gamma': 2, 'min_child_weight': 0.01, 'n_estimators': 300, 'subsample': 0.5623413251903491}\n",
    "# Score of best xgb_regressor :\t0.8203389830508474\n",
    "\n",
    "\n",
    "# Param_GRID\n",
    "# grid_n_estimator = [10, 50, 100, 300]\n",
    "# grid_ratio_max_samples = [.1, .25, .5, .75, 1.0]\n",
    "# grid_learn = [.01, .03, .05, .1, .25]\n",
    "# grid_max_depth = [2, 4, 6, 8, 10, None]\n",
    "# grid_min_samples = [5, 10, .03, .05, .10]\n",
    "# grid_criterion = ['gini', 'entropy']\n",
    "# grid_bool = [True, False]\n",
    "# grid_seed = [0]\n",
    "\n",
    "#KNN\n",
    "\n",
    "knn_model = KNeighborsClassifier()\n",
    "\n",
    "knn_pipe = Pipeline([\n",
    "        ('sc', StandardScaler()),     \n",
    "        ('knn', KNeighborsClassifier()) \n",
    "    ])\n",
    "\n",
    "knn_param = {\n",
    "        'knn__n_neighbors': [7, 9, 13,11,15,19,21], # usually odd numbers\n",
    "        'knn__weights': ['uniform', 'distance'],\n",
    "        'knn__algorithm':['auto','ball_tree','kd_tree','brute'],\n",
    "        'knn__leaf_size':np.arange(10,53,6).tolist(),\n",
    "        'knn__p':[1,2]\n",
    "    }\n",
    "\n",
    "grid_knn = GridSearchCV(knn_pipe, \n",
    "                    param_grid = knn_param, \n",
    "                    n_jobs = -1, \n",
    "                    cv = 5,\n",
    "                    refit = \"accuracy_score\",\n",
    "                    verbose=2)\n",
    "\n",
    "grid_knn.fit(X_train, y_train)\n",
    "\n",
    "prediction_knn = grid_knn.predict(X_test)\n",
    "\n",
    "print(grid_knn.best_params_)\n",
    "print('Score of best knn_regressor :\\t{}'.format(grid_knn.score(X_test, y_test)))\n",
    "\n",
    "\n",
    "# {'knn__algorithm': 'auto', 'knn__leaf_size': 10, 'knn__n_neighbors': 7, 'knn__p': 2, 'knn__weights': 'uniform'}\n",
    "# Score of best knn_regressor :\t0.8372881355932204"
   ]
  }
 ],
 "metadata": {
  "kernelspec": {
   "display_name": "Python 3",
   "language": "python",
   "name": "python3"
  },
  "language_info": {
   "codemirror_mode": {
    "name": "ipython",
    "version": 3
   },
   "file_extension": ".py",
   "mimetype": "text/x-python",
   "name": "python",
   "nbconvert_exporter": "python",
   "pygments_lexer": "ipython3",
   "version": "3.8.8"
  }
 },
 "nbformat": 4,
 "nbformat_minor": 5
}
