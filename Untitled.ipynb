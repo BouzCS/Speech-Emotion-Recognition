{
 "cells": [
  {
   "cell_type": "code",
   "execution_count": 1,
   "id": "38f5def4-ba8f-4bd3-a8ee-4fcb38e88308",
   "metadata": {},
   "outputs": [],
   "source": [
    "import librosa\n",
    "%matplotlib inline\n",
    "import matplotlib.pyplot as plt\n",
    "import librosa.display\n",
    "from IPython.display import Audio\n",
    "import numpy as np\n",
    "#import tensorflow as tf\n",
    "import soundfile\n",
    "from matplotlib.pyplot import specgram\n",
    "import pandas as pd\n",
    "from sklearn.metrics import confusion_matrix\n",
    "import IPython.display as ipd  # To play sound in the notebook\n",
    "import os # interface with underlying OS that python is running on\n",
    "import sys\n",
    "\n",
    "from sklearn.model_selection import StratifiedShuffleSplit\n",
    "from sklearn.preprocessing import LabelEncoder\n",
    "from sklearn.metrics import classification_report, f1_score\n",
    "import nlpaug.augmenter.audio as naa"
   ]
  },
  {
   "cell_type": "code",
   "execution_count": 2,
   "id": "fe78e068-04d4-4c6a-8622-c9515c58696d",
   "metadata": {},
   "outputs": [],
   "source": [
    "#DataFlair - Emotions in the RAVDESS dataset\n",
    "emotions={\n",
    "  'neutral':0,\n",
    "  'calm':1,\n",
    "  'happy':2,\n",
    "  'sad':3,\n",
    "  'angry':4,\n",
    "  'fearful':5,\n",
    "  'disgust':6,\n",
    "  'surprised':7\n",
    "}"
   ]
  },
  {
   "cell_type": "code",
   "execution_count": 52,
   "id": "adf97454-124d-4abc-898d-418045bb5673",
   "metadata": {},
   "outputs": [],
   "source": [
    "def extract_feature(y_data,sr, mfcc, chroma, mel,crossing_0):\n",
    "    if chroma:\n",
    "        stft=np.abs(librosa.stft(y_data))\n",
    "        result=np.array([])\n",
    "    if mfcc:\n",
    "        mfccs=np.mean(librosa.feature.mfcc(y=y_data, sr=sr, n_mfcc=40).T, axis=0)\n",
    "        result=np.hstack((result, mfccs))\n",
    "    if chroma:\n",
    "        chroma=np.mean(librosa.feature.chroma_stft(S=stft, sr=sr).T,axis=0)\n",
    "        result=np.hstack((result, chroma))\n",
    "    if mel:\n",
    "        mel=np.mean(librosa.feature.melspectrogram(y_data, sr=sr).T,axis=0)\n",
    "        result=np.hstack((result, mel))\n",
    "    if crossing_0:\n",
    "        crossing_0= np.mean(librosa.feature.zero_crossing_rate(y_data))\n",
    "        result=np.hstack((result, crossing_0))\n",
    "    return result"
   ]
  },
  {
   "cell_type": "code",
   "execution_count": 20,
   "id": "f3a3edad-56f4-45aa-94a8-2913e2cf8eee",
   "metadata": {},
   "outputs": [],
   "source": [
    "def augumente_data(file_path):\n",
    "    data, sr = librosa.load(file_path)\n",
    "    \n",
    "    data_L=[]\n",
    "    data_L.append(data)\n",
    "    #Crop Augmenter\n",
    "    aug = naa.CropAug(sampling_rate=sr)\n",
    "    data_L.append(aug.augment(data))\n",
    "    \n",
    "    #Loudness Augmenter\n",
    "    aug = naa.LoudnessAug()\n",
    "    data_L.append(aug.augment(data))\n",
    "    \n",
    "    \n",
    "    #Mask Augmenter\n",
    "    aug = naa.MaskAug(sampling_rate=sr, mask_with_noise=False)\n",
    "    data_L.append(aug.augment(data))\n",
    "    \n",
    "    #Noise\n",
    "    aug = naa.NoiseAug()\n",
    "    data_L.append(aug.augment(data))\n",
    "    \n",
    "    #Pitch_aug\n",
    "    aug = naa.PitchAug(sampling_rate=sr, factor=(2,3))\n",
    "    data_L.append(aug.augment(data))\n",
    "    \n",
    "    #Speed_Aug\n",
    "    aug = naa.SpeedAug()\n",
    "    data_L.append(aug.augment(data))\n",
    "    \n",
    "    return data_L"
   ]
  },
  {
   "cell_type": "code",
   "execution_count": 22,
   "id": "d8f1aae5-2ee3-4878-ac40-c7ba21270657",
   "metadata": {},
   "outputs": [],
   "source": [
    "#Load the data and extract features for each sound file\n",
    "\n",
    "def load_data():\n",
    "    x,y=[],[]\n",
    "    for file in glob.glob(\"C:\\\\Users\\\\Dragox.RS\\\\Documents\\\\GitHub\\\\Speech-Emotion-Recognition\\Data\\\\Actor_*\\\\*.wav\"):\n",
    "        file_name=os.path.basename(file)\n",
    "        emotion=emotions[file_name.split(\"-\")[2]]\n",
    "        \n",
    "\n",
    "        _ , sr = librosa.load(file)\n",
    "        for y_data in augumente_data(file):\n",
    "            feature=extract_feature(y_data, sr, mfcc=True, chroma=True, mel=True,crossing_0=True)\n",
    "            x.append(feature)\n",
    "            y.append(emotion)\n",
    "    return np.array(x),y"
   ]
  },
  {
   "cell_type": "code",
   "execution_count": 21,
   "id": "8f3ae9a9-f335-4981-8f47-9a0f08af6ca4",
   "metadata": {},
   "outputs": [],
   "source": [
    "##Load the data and extract features for each sound file\n",
    "#\n",
    "#def load_data(test_size=0.2):\n",
    "#    x,y=[],[]\n",
    "#    for file in glob.glob(\"C:\\\\Users\\\\Dragox.RS\\\\Documents\\\\GitHub\\\\Speech-Emotion-Recognition\\Data\\\\Actor_*\\\\*.wav\"):\n",
    "#        file_name=os.path.basename(file)\n",
    "#        emotion=emotions[file_name.split(\"-\")[2]]\n",
    "#\n",
    "#        feature=extract_feature(file, mfcc=True, chroma=True, mel=True,crossing_0=True)\n",
    "#        x.append(feature)\n",
    "#        y.append(emotion)\n",
    "#    return x,y"
   ]
  },
  {
   "cell_type": "code",
   "execution_count": null,
   "id": "80fe5cab-250c-4663-a699-24c4e36f8f67",
   "metadata": {},
   "outputs": [],
   "source": [
    "X,y=load_data()"
   ]
  },
  {
   "cell_type": "code",
   "execution_count": 37,
   "id": "fab0ec6a-3a7c-4969-92e9-1817ec7ccb9a",
   "metadata": {},
   "outputs": [],
   "source": [
    "df_x = pd.DataFrame(X)\n",
    "df_y = pd.DataFrame(y)\n",
    "df = pd.concat([df_x,df_y],axis=1)"
   ]
  },
  {
   "cell_type": "code",
   "execution_count": 14,
   "id": "2dd45c9e-9b41-472e-963a-9a82330a0679",
   "metadata": {},
   "outputs": [],
   "source": [
    "\n",
    "# NORMALIZE DATA\n",
    "mean = np.mean(x_train, axis=0)\n",
    "std = np.std(x_train, axis=0)\n",
    "x_train = (x_train - mean)/std\n",
    "x_test = (x_test - mean)/std\n",
    "\n"
   ]
  },
  {
   "cell_type": "code",
   "execution_count": 31,
   "id": "ba68f9a5-3624-4023-8651-41cb6f4224ff",
   "metadata": {},
   "outputs": [],
   "source": [
    "df_x = pd.DataFrame(x_train)\n",
    "df_y = pd.DataFrame(y_train)\n",
    "df = pd.concat([df_x,df_y],axis=1)"
   ]
  },
  {
   "cell_type": "code",
   "execution_count": null,
   "id": "2f5b833f-7148-4043-88da-1316ae2fe4e3",
   "metadata": {},
   "outputs": [],
   "source": [
    "df.to_csv(\"Data_Augumented.csv\")"
   ]
  },
  {
   "cell_type": "code",
   "execution_count": 2,
   "id": "5618d800-68b8-4633-83bd-393e610f09a2",
   "metadata": {},
   "outputs": [],
   "source": [
    "df = pd.read_csv(\"Data_Augumented.csv\")"
   ]
  },
  {
   "cell_type": "code",
   "execution_count": 4,
   "id": "5dcfaa63-600f-49af-b0c1-3f015c09e3a2",
   "metadata": {},
   "outputs": [],
   "source": [
    "df[\"0.1\"].replace(emotions,inplace=True)"
   ]
  },
  {
   "cell_type": "code",
   "execution_count": 3,
   "id": "9bb4befa-efb7-433d-80bd-a0024ee0bcc8",
   "metadata": {},
   "outputs": [],
   "source": [
    "X=df.drop([\"Unnamed: 0\",\"0.1\"],axis=1)\n",
    "y=df[\"0.1\"]"
   ]
  },
  {
   "cell_type": "code",
   "execution_count": 4,
   "id": "6d8a20e7-460c-4e60-8efb-77de05b30e1a",
   "metadata": {},
   "outputs": [
    {
     "data": {
      "application/javascript": [
       "\n",
       "        if (window._pyforest_update_imports_cell) { window._pyforest_update_imports_cell('from sklearn.model_selection import train_test_split'); }\n",
       "    "
      ],
      "text/plain": [
       "<IPython.core.display.Javascript object>"
      ]
     },
     "metadata": {},
     "output_type": "display_data"
    }
   ],
   "source": [
    "x_train,x_test,y_train,y_test=train_test_split(X,y,test_size=0.2)"
   ]
  },
  {
   "cell_type": "code",
   "execution_count": 5,
   "id": "6fce84be-af11-4e10-b683-ae5c3e73be59",
   "metadata": {},
   "outputs": [],
   "source": [
    "from sklearn.neural_network import MLPClassifier"
   ]
  },
  {
   "cell_type": "code",
   "execution_count": 58,
   "id": "c6868c61-d4f2-472c-9d28-93fdac876d48",
   "metadata": {},
   "outputs": [],
   "source": [
    "model_mlp=MLPClassifier(activation=\"relu\", alpha= 0.0001, batch_size=\"auto\", epsilon=1e-08, hidden_layer_sizes=(500, 400, 300, 200, 100), learning_rate_init= 0.0001,learning_rate='adaptive', max_iter=600)"
   ]
  },
  {
   "cell_type": "code",
   "execution_count": 59,
   "id": "f769ecef-702e-4b68-8b4f-1f62f2f216c8",
   "metadata": {},
   "outputs": [
    {
     "data": {
      "text/plain": [
       "MLPClassifier(hidden_layer_sizes=(500, 400, 300, 200, 100),\n",
       "              learning_rate='adaptive', learning_rate_init=0.0001,\n",
       "              max_iter=600)"
      ]
     },
     "execution_count": 59,
     "metadata": {},
     "output_type": "execute_result"
    }
   ],
   "source": [
    "model_mlp.fit(x_train,y_train)"
   ]
  },
  {
   "cell_type": "code",
   "execution_count": 8,
   "id": "a8bebfa0-7dfa-442b-9630-0dac14bca5cd",
   "metadata": {},
   "outputs": [],
   "source": [
    "from sklearn.metrics import accuracy_score"
   ]
  },
  {
   "cell_type": "code",
   "execution_count": 123,
   "id": "d997f77c-33d0-4fed-9126-8c2fe881a5fb",
   "metadata": {},
   "outputs": [
    {
     "name": "stdout",
     "output_type": "stream",
     "text": [
      "Accuracy: 79.02%\n"
     ]
    }
   ],
   "source": [
    "# Predict for the test set\n",
    "y_pred=model_mlp.predict(x_test)\n",
    "#Calculate the accuracy of our model\n",
    "accuracy=accuracy_score(y_true=y_test, y_pred=y_pred)\n",
    "#DataFlair - Print the accuracy\n",
    "print(\"Accuracy: {:.2f}%\".format(accuracy*100))"
   ]
  },
  {
   "cell_type": "code",
   "execution_count": null,
   "id": "46de06e6-d543-4732-811a-7fddfe8b968c",
   "metadata": {},
   "outputs": [
    {
     "data": {
      "image/png": "[encoded data removed]",
      "text/plain": [
       "<Figure size 936x576 with 1 Axes>"
      ]
     },
     "metadata": {
      "needs_background": "light"
     },
     "output_type": "display_data"
    }
   ],
   "source": [
    "error_rate=[]\n",
    "for i in range(1,100):\n",
    "    knn = KNeighborsClassifier(n_neighbors=i)\n",
    "    model = knn.fit(x_train,y_train)\n",
    "    pred_i = knn.predict(x_test)\n",
    "    error_rate.append(np.mean(pred_i != y_test))\n",
    "plt.figure(figsize=(13,8))\n",
    "plt.plot(range(1,100), error_rate, linestyle = 'dotted', marker = 'o',color = 'g')\n",
    "plt.xlabel('K value')\n",
    "plt.ylabel('Error Rate')\n",
    "plt.title('K value Vs Error Rate')\n",
    "plt.show() "
   ]
  },
  {
   "cell_type": "code",
   "execution_count": 44,
   "id": "f41d49f3-e8a4-4ded-9b7b-84c5e492b934",
   "metadata": {
    "tags": []
   },
   "outputs": [
    {
     "data": {
      "application/javascript": [
       "\n",
       "        if (window._pyforest_update_imports_cell) { window._pyforest_update_imports_cell('from sklearn.model_selection import GridSearchCV\\nfrom sklearn.model_selection import train_test_split'); }\n",
       "    "
      ],
      "text/plain": [
       "<IPython.core.display.Javascript object>"
      ]
     },
     "metadata": {},
     "output_type": "display_data"
    },
    {
     "name": "stdout",
     "output_type": "stream",
     "text": [
      "Fitting 5 folds for each of 96 candidates, totalling 480 fits\n",
      "{'knn__algorithm': 'auto', 'knn__leaf_size': 10, 'knn__n_neighbors': 1, 'knn__p': 1, 'knn__weights': 'uniform'}\n",
      "Score of best knn_regressor :\t0.7738095238095238\n"
     ]
    }
   ],
   "source": [
    "from sklearn.pipeline import Pipeline\n",
    "from sklearn.preprocessing import StandardScaler\n",
    "\n",
    "knn_model = KNeighborsClassifier()\n",
    "\n",
    "knn_pipe = Pipeline([\n",
    "        ('sc', StandardScaler()),     \n",
    "        ('knn', KNeighborsClassifier()) \n",
    "    ])\n",
    "\n",
    "knn_param = {\n",
    "        'knn__n_neighbors': [1,3], # usually odd numbers\n",
    "        'knn__weights': ['uniform', 'distance'],\n",
    "        'knn__algorithm':['auto','ball_tree','kd_tree','brute'],\n",
    "        'knn__leaf_size':np.arange(10,31,10).tolist(),\n",
    "        'knn__p':[1,2]\n",
    "    }\n",
    "\n",
    "grid_knn = GridSearchCV(knn_pipe, \n",
    "                    param_grid = knn_param, \n",
    "                    n_jobs = -1, \n",
    "                    cv = 5,\n",
    "                    refit = \"accuracy_score\",\n",
    "                    verbose=2)\n",
    "\n",
    "grid_knn.fit(x_train, y_train)\n",
    "\n",
    "prediction_knn = grid_knn.predict(x_test)\n",
    "\n",
    "print(grid_knn.best_params_)\n",
    "print('Score of best knn_regressor :\\t{}'.format(grid_knn.score(x_test, y_test)))"
   ]
  },
  {
   "cell_type": "code",
   "execution_count": 136,
   "id": "3da60efa-ab10-4bc7-9318-8719942447d9",
   "metadata": {},
   "outputs": [
    {
     "name": "stdout",
     "output_type": "stream",
     "text": [
      "              precision    recall  f1-score   support\n",
      "\n",
      "       angry       0.79      0.79      0.79       280\n",
      "        calm       0.77      0.81      0.79       263\n",
      "     disgust       0.77      0.75      0.76       264\n",
      "     fearful       0.82      0.82      0.82       250\n",
      "       happy       0.82      0.73      0.77       294\n",
      "     neutral       0.61      0.80      0.69       124\n",
      "         sad       0.77      0.70      0.73       263\n",
      "   surprised       0.77      0.82      0.80       278\n",
      "\n",
      "    accuracy                           0.77      2016\n",
      "   macro avg       0.77      0.78      0.77      2016\n",
      "weighted avg       0.78      0.77      0.77      2016\n",
      "\n",
      "Score of KNN :\t0.7738095238095238\n"
     ]
    }
   ],
   "source": [
    "from sklearn.neighbors import KNeighborsClassifier\n",
    "model = KNeighborsClassifier(n_neighbors=1,p= 1, weights='uniform',algorithm='auto',leaf_size=15).fit(x_train,y_train)\n",
    "pred = model.predict(x_test)\n",
    "print(classification_report(y_test,pred))\n",
    "print('Score of KNN :\\t{}'.format(model.score(x_test, y_test)))"
   ]
  },
  {
   "cell_type": "code",
   "execution_count": 62,
   "id": "7a076311-c878-43be-b139-d6f5d8677aba",
   "metadata": {},
   "outputs": [],
   "source": [
    "import pickle\n",
    "# now you can save it to a file\n",
    "with open('MLP_base_C.pkl', 'wb') as f:\n",
    "    pickle.dump(model_mlp, f)\n",
    "\n",
    "# and later you can load it\n",
    "#with open('filename.pkl', 'rb') as f:\n",
    "#    clf = pickle.load(f)"
   ]
  },
  {
   "cell_type": "code",
   "execution_count": 11,
   "id": "fdb7012a-d23c-44c3-af3f-b61f52e12260",
   "metadata": {},
   "outputs": [],
   "source": [
    "#GRID = [\n",
    "#    {\n",
    "#     'solver': ['adam'],\n",
    "#     'learning_rate_init': [0.0001],\n",
    "#     'max_iter': [300],\n",
    "#     'hidden_layer_sizes': [(500, 400, 300, 200, 100), (400, 400, 400, 400, 400), (300, 300, 300, 300, 300), (200, 200, 200, 200, 200)],\n",
    "#     'activation': ['logistic', 'tanh', 'relu'],\n",
    "#     'alpha': [0.0001, 0.001, 0.005],\n",
    "#     'early_stopping': [True, False]\n",
    "#     }\n",
    "#]\n",
    "#\n",
    "GRID = [\n",
    "    {\n",
    "     'solver': ['adam'],\n",
    "     'learning_rate_init': [0.0001],\n",
    "     'max_iter': [300],\n",
    "     'hidden_layer_sizes': [(500, 400, 300, 200, 100)],\n",
    "     'activation': ['logistic','relu'],\n",
    "     'alpha': [0.0001, 0.001],\n",
    "     }\n",
    "]\n"
   ]
  },
  {
   "cell_type": "code",
   "execution_count": 12,
   "id": "057f83d4-2615-4fc3-82e0-fb2fa5e8ada4",
   "metadata": {},
   "outputs": [
    {
     "data": {
      "application/javascript": [
       "\n",
       "        if (window._pyforest_update_imports_cell) { window._pyforest_update_imports_cell('from sklearn.model_selection import GridSearchCV\\nfrom sklearn.model_selection import train_test_split'); }\n",
       "    "
      ],
      "text/plain": [
       "<IPython.core.display.Javascript object>"
      ]
     },
     "metadata": {},
     "output_type": "display_data"
    },
    {
     "name": "stdout",
     "output_type": "stream",
     "text": [
      "Fitting 2 folds for each of 4 candidates, totalling 8 fits\n",
      "{'activation': 'relu', 'alpha': 0.0001, 'hidden_layer_sizes': (500, 400, 300, 200, 100), 'learning_rate_init': 0.0001, 'max_iter': 300, 'solver': 'adam'}\n",
      "Score of best rf_classifier :\t0.7872023809523809\n"
     ]
    },
    {
     "ename": "NameError",
     "evalue": "name 'prediction_rf' is not defined",
     "output_type": "error",
     "traceback": [
      "\u001b[1;31m---------------------------------------------------------------------------\u001b[0m",
      "\u001b[1;31mNameError\u001b[0m                                 Traceback (most recent call last)",
      "\u001b[1;32m<ipython-input-12-6a230bfd595d>\u001b[0m in \u001b[0;36m<module>\u001b[1;34m\u001b[0m\n\u001b[0;32m     10\u001b[0m \u001b[0mprint\u001b[0m\u001b[1;33m(\u001b[0m\u001b[0mgrid_search\u001b[0m\u001b[1;33m.\u001b[0m\u001b[0mbest_params_\u001b[0m\u001b[1;33m)\u001b[0m\u001b[1;33m\u001b[0m\u001b[1;33m\u001b[0m\u001b[0m\n\u001b[0;32m     11\u001b[0m \u001b[0mprint\u001b[0m\u001b[1;33m(\u001b[0m\u001b[1;34m'Score of best rf_classifier :\\t{}'\u001b[0m\u001b[1;33m.\u001b[0m\u001b[0mformat\u001b[0m\u001b[1;33m(\u001b[0m\u001b[0mgrid_search\u001b[0m\u001b[1;33m.\u001b[0m\u001b[0mscore\u001b[0m\u001b[1;33m(\u001b[0m\u001b[0mx_test\u001b[0m\u001b[1;33m,\u001b[0m \u001b[0my_test\u001b[0m\u001b[1;33m)\u001b[0m\u001b[1;33m)\u001b[0m\u001b[1;33m)\u001b[0m\u001b[1;33m\u001b[0m\u001b[1;33m\u001b[0m\u001b[0m\n\u001b[1;32m---> 12\u001b[1;33m \u001b[0mprint\u001b[0m\u001b[1;33m(\u001b[0m\u001b[0mclassification_report\u001b[0m\u001b[1;33m(\u001b[0m\u001b[0my_test\u001b[0m\u001b[1;33m,\u001b[0m \u001b[0mprediction_rf\u001b[0m\u001b[1;33m)\u001b[0m\u001b[1;33m)\u001b[0m\u001b[1;33m\u001b[0m\u001b[1;33m\u001b[0m\u001b[0m\n\u001b[0m",
      "\u001b[1;31mNameError\u001b[0m: name 'prediction_rf' is not defined"
     ]
    }
   ],
   "source": [
    "model=MLPClassifier()\n",
    "\n",
    "grid_search = GridSearchCV(estimator=model, param_grid=GRID,\n",
    "                            n_jobs=-1, cv=2, refit=True, verbose=2, \n",
    "                            return_train_score=False)\n",
    "\n",
    "grid_search.fit(x_train, y_train)\n",
    "prediction = grid_search.predict(x_test)\n",
    "\n",
    "print(grid_search.best_params_)\n",
    "print('Score of best mlp_classifier :\\t{}'.format(grid_search.score(x_test, y_test)))\n",
    "print(classification_report(y_test, prediction))"
   ]
  },
  {
   "cell_type": "code",
   "execution_count": 13,
   "id": "874b7bf8-f7a3-4091-8aea-a984dfc5638e",
   "metadata": {},
   "outputs": [
    {
     "name": "stdout",
     "output_type": "stream",
     "text": [
      "Score of best rf_classifier :\t0.7872023809523809\n",
      "              precision    recall  f1-score   support\n",
      "\n",
      "       angry       0.82      0.82      0.82       251\n",
      "        calm       0.76      0.86      0.81       282\n",
      "     disgust       0.82      0.80      0.81       290\n",
      "     fearful       0.82      0.79      0.81       282\n",
      "       happy       0.77      0.77      0.77       278\n",
      "     neutral       0.72      0.66      0.69       131\n",
      "         sad       0.76      0.76      0.76       249\n",
      "   surprised       0.80      0.78      0.79       253\n",
      "\n",
      "    accuracy                           0.79      2016\n",
      "   macro avg       0.78      0.78      0.78      2016\n",
      "weighted avg       0.79      0.79      0.79      2016\n",
      "\n"
     ]
    }
   ],
   "source": [
    "print('Score of best mlp_classifier :\\t{}'.format(grid_search.score(x_test, y_test)))\n",
    "print(classification_report(y_test, prediction))"
   ]
  },
  {
   "cell_type": "code",
   "execution_count": 8,
   "id": "93653649-c104-4caa-86d1-f537fdd7559e",
   "metadata": {},
   "outputs": [
    {
     "name": "stdout",
     "output_type": "stream",
     "text": [
      "Wall time: 0 ns\n"
     ]
    },
    {
     "name": "stderr",
     "output_type": "stream",
     "text": [
      "C:\\Users\\Dragox.RS\\anaconda3\\lib\\site-packages\\xgboost\\sklearn.py:1146: UserWarning: The use of label encoder in XGBClassifier is deprecated and will be removed in a future release. To remove this warning, do the following: 1) Pass option use_label_encoder=False when constructing XGBClassifier object; and 2) Encode your labels (y) as integers starting with 0, i.e. 0, 1, 2, ..., [num_class - 1].\n",
      "  warnings.warn(label_encoder_deprecation_msg, UserWarning)\n"
     ]
    },
    {
     "name": "stdout",
     "output_type": "stream",
     "text": [
      "[00:56:06] WARNING: C:/Users/Administrator/workspace/xgboost-win64_release_1.4.0/src/learner.cc:1095: Starting in XGBoost 1.3.0, the default evaluation metric used with the objective 'multi:softprob' was changed from 'merror' to 'mlogloss'. Explicitly set eval_metric if you'd like to restore the old behavior.\n",
      "Accuracy on test data: 75.2%\n"
     ]
    }
   ],
   "source": [
    "%time\n",
    "import xgboost as xgb\n",
    "from sklearn.datasets import make_multilabel_classification\n",
    "from sklearn.model_selection import train_test_split\n",
    "from sklearn.multioutput import MultiOutputClassifier\n",
    "from sklearn.metrics import accuracy_score\n",
    "\n",
    "\n",
    "# create XGBoost instance with default hyper-parameters\n",
    "xgb_estimator = xgb.XGBClassifier(objective='multi:softmax')\n",
    "\n",
    "\n",
    "# fit the model\n",
    "xgb_estimator.fit(x_train, y_train)\n",
    "\n",
    "# evaluate on test data\n",
    "print('Accuracy on test data: {:.1f}%'.format(accuracy_score(y_test, xgb_estimator.predict(x_test))*100))"
   ]
  },
  {
   "cell_type": "code",
   "execution_count": 33,
   "id": "e41a9385-b73d-46e8-bd3a-9953e4089c78",
   "metadata": {},
   "outputs": [
    {
     "data": {
      "image/png": "[encoded data removed]",
      "text/plain": [
       "<Figure size 1080x360 with 3 Axes>"
      ]
     },
     "metadata": {
      "needs_background": "light"
     },
     "output_type": "display_data"
    }
   ],
   "source": [
    "\n",
    "import matplotlib.pyplot as plt\n",
    "\n",
    "from sklearn.datasets import make_gaussian_quantiles\n",
    "from sklearn.ensemble import AdaBoostClassifier\n",
    "from sklearn.metrics import accuracy_score\n",
    "from sklearn.tree import DecisionTreeClassifier\n",
    "\n",
    "\n",
    "bdt_real = AdaBoostClassifier(\n",
    "    DecisionTreeClassifier(max_depth=2), n_estimators=300, learning_rate=1\n",
    ")\n",
    "\n",
    "bdt_discrete = AdaBoostClassifier(\n",
    "    DecisionTreeClassifier(max_depth=2),\n",
    "    n_estimators=300,\n",
    "    learning_rate=1.5,\n",
    "    algorithm=\"SAMME\",\n",
    ")\n",
    "\n",
    "bdt_real.fit(x_train, y_train)\n",
    "bdt_discrete.fit(x_train, y_train)\n",
    "\n",
    "real_test_errors = []\n",
    "discrete_test_errors = []\n",
    "\n",
    "for real_test_predict, discrete_train_predict in zip(\n",
    "    bdt_real.staged_predict(x_test), bdt_discrete.staged_predict(x_test)\n",
    "):\n",
    "    real_test_errors.append(1.0 - accuracy_score(real_test_predict, y_test))\n",
    "    discrete_test_errors.append(1.0 - accuracy_score(discrete_train_predict, y_test))\n",
    "\n",
    "n_trees_discrete = len(bdt_discrete)\n",
    "n_trees_real = len(bdt_real)\n",
    "\n",
    "# Boosting might terminate early, but the following arrays are always\n",
    "# n_estimators long. We crop them to the actual number of trees here:\n",
    "discrete_estimator_errors = bdt_discrete.estimator_errors_[:n_trees_discrete]\n",
    "real_estimator_errors = bdt_real.estimator_errors_[:n_trees_real]\n",
    "discrete_estimator_weights = bdt_discrete.estimator_weights_[:n_trees_discrete]\n",
    "\n",
    "plt.figure(figsize=(15, 5))\n",
    "\n",
    "plt.subplot(131)\n",
    "plt.plot(range(1, n_trees_discrete + 1), discrete_test_errors, c=\"black\", label=\"SAMME\")\n",
    "plt.plot(\n",
    "    range(1, n_trees_real + 1),\n",
    "    real_test_errors,\n",
    "    c=\"black\",\n",
    "    linestyle=\"dashed\",\n",
    "    label=\"SAMME.R\",\n",
    ")\n",
    "plt.legend()\n",
    "plt.ylim(0.18, 0.62)\n",
    "plt.ylabel(\"Test Error\")\n",
    "plt.xlabel(\"Number of Trees\")\n",
    "\n",
    "plt.subplot(132)\n",
    "plt.plot(\n",
    "    range(1, n_trees_discrete + 1),\n",
    "    discrete_estimator_errors,\n",
    "    \"b\",\n",
    "    label=\"SAMME\",\n",
    "    alpha=0.5,\n",
    ")\n",
    "plt.plot(\n",
    "    range(1, n_trees_real + 1), real_estimator_errors, \"r\", label=\"SAMME.R\", alpha=0.5\n",
    ")\n",
    "plt.legend()\n",
    "plt.ylabel(\"Error\")\n",
    "plt.xlabel(\"Number of Trees\")\n",
    "plt.ylim((0.2, max(real_estimator_errors.max(), discrete_estimator_errors.max()) * 1.2))\n",
    "plt.xlim((-20, len(bdt_discrete) + 20))\n",
    "\n",
    "plt.subplot(133)\n",
    "plt.plot(range(1, n_trees_discrete + 1), discrete_estimator_weights, \"b\", label=\"SAMME\")\n",
    "plt.legend()\n",
    "plt.ylabel(\"Weight\")\n",
    "plt.xlabel(\"Number of Trees\")\n",
    "plt.ylim((0, discrete_estimator_weights.max() * 1.2))\n",
    "plt.xlim((-20, n_trees_discrete + 20))\n",
    "\n",
    "# prevent overlapping y-axis labels\n",
    "plt.subplots_adjust(wspace=0.25)\n",
    "plt.show()"
   ]
  },
  {
   "cell_type": "markdown",
   "id": "ad62e67d-96cd-4fe8-8bc5-ea8cc0813ad2",
   "metadata": {},
   "source": [
    "## Test of a new input"
   ]
  },
  {
   "cell_type": "code",
   "execution_count": 173,
   "id": "f20e65cd-fdd6-4f4a-b75f-63dd7f1806ef",
   "metadata": {},
   "outputs": [
    {
     "name": "stderr",
     "output_type": "stream",
     "text": [
      "<ipython-input-52-408f46c46031>:12: FutureWarning: Pass y=[ 4.2361730e-06  4.2871402e-06 -2.2073088e-07 ... -2.3409764e-05\n",
      "  1.3246005e-04  8.1582795e-05] as keyword args. From version 0.10 passing these as positional arguments will result in an error\n",
      "  mel=np.mean(librosa.feature.melspectrogram(y_data, sr=sr).T,axis=0)\n"
     ]
    }
   ],
   "source": [
    "file_name = \"C:\\\\Users\\\\Dragox.RS\\\\Downloads\\\\Music\\\\243646__xtrgamr__sing-along.wav\"\n",
    "\n",
    "y_data, sr = librosa.load(file_name)\n",
    "Vector_new_input=[]\n",
    "feature=extract_feature(y_data, sr, mfcc=True, chroma=True, mel=True,crossing_0=True)\n",
    "Vector_new_input.append(feature)"
   ]
  },
  {
   "cell_type": "code",
   "execution_count": 148,
   "id": "e0a8fe07-f193-49a0-8aaf-7992b0a95250",
   "metadata": {},
   "outputs": [
    {
     "data": {
      "text/plain": [
       "array(['neutral', 'calm', 'happy', 'sad', 'angry', 'fearful', 'disgust',\n",
       "       'surprised'], dtype=object)"
      ]
     },
     "execution_count": 148,
     "metadata": {},
     "output_type": "execute_result"
    }
   ],
   "source": [
    "df['0.1'].unique()"
   ]
  },
  {
   "cell_type": "code",
   "execution_count": 174,
   "id": "e9903712-0905-4ac0-bcfe-7e933af2bb30",
   "metadata": {},
   "outputs": [
    {
     "data": {
      "text/plain": [
       "array(['disgust'], dtype=object)"
      ]
     },
     "execution_count": 174,
     "metadata": {},
     "output_type": "execute_result"
    }
   ],
   "source": [
    "# Predict for the test set\n",
    "y_pred=model.predict(Vector_new_input)\n",
    "y_pred"
   ]
  }
 ],
 "metadata": {
  "kernelspec": {
   "display_name": "Python 3",
   "language": "python",
   "name": "python3"
  },
  "language_info": {
   "codemirror_mode": {
    "name": "ipython",
    "version": 3
   },
   "file_extension": ".py",
   "mimetype": "text/x-python",
   "name": "python",
   "nbconvert_exporter": "python",
   "pygments_lexer": "ipython3",
   "version": "3.8.8"
  }
 },
 "nbformat": 4,
 "nbformat_minor": 5
}
